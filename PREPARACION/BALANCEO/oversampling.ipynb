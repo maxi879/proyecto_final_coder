{
 "cells": [
  {
   "cell_type": "code",
   "execution_count": 2,
   "metadata": {},
   "outputs": [],
   "source": [
    "# IMPLEMENTACION DE Synthetic Minority Oversampling Technique (SMOTE)\n",
    "import pandas as pd\n",
    "import numpy as np\n",
    "import matplotlib as mpl\n",
    "import matplotlib.pyplot as plt\n",
    "import seaborn as sns\n",
    "import itertools\n",
    "from sklearn.svm import LinearSVC\n",
    "from sklearn.datasets import make_classification\n",
    "from mlxtend.plotting import plot_decision_regions\n",
    "import matplotlib.gridspec as gridspec\n",
    "from matplotlib import pyplot as plt\n",
    "from imblearn.over_sampling import  RandomOverSampler, SMOTE, ADASYN\n",
    "%matplotlib inline\n",
    "datos_url= \"C://Users/maxib/Source/repos/proyecto_final_coder/DATOS/Base_predictive_maintenance.csv\""
   ]
  },
  {
   "cell_type": "code",
   "execution_count": 3,
   "metadata": {},
   "outputs": [
    {
     "data": {
      "text/html": [
       "<div>\n",
       "<style scoped>\n",
       "    .dataframe tbody tr th:only-of-type {\n",
       "        vertical-align: middle;\n",
       "    }\n",
       "\n",
       "    .dataframe tbody tr th {\n",
       "        vertical-align: top;\n",
       "    }\n",
       "\n",
       "    .dataframe thead th {\n",
       "        text-align: right;\n",
       "    }\n",
       "</style>\n",
       "<table border=\"1\" class=\"dataframe\">\n",
       "  <thead>\n",
       "    <tr style=\"text-align: right;\">\n",
       "      <th></th>\n",
       "      <th></th>\n",
       "      <th>Type</th>\n",
       "      <th>Air_temperature_[K]</th>\n",
       "      <th>Process_temperature_[K]</th>\n",
       "      <th>Rotational_speed_[rpm]</th>\n",
       "      <th>Torque_[Nm]</th>\n",
       "      <th>Tool_wear_[min]</th>\n",
       "      <th>Target</th>\n",
       "      <th>Failure_Type</th>\n",
       "    </tr>\n",
       "    <tr>\n",
       "      <th>UDI</th>\n",
       "      <th>Product_ID</th>\n",
       "      <th></th>\n",
       "      <th></th>\n",
       "      <th></th>\n",
       "      <th></th>\n",
       "      <th></th>\n",
       "      <th></th>\n",
       "      <th></th>\n",
       "      <th></th>\n",
       "    </tr>\n",
       "  </thead>\n",
       "  <tbody>\n",
       "    <tr>\n",
       "      <th>1</th>\n",
       "      <th>M14860</th>\n",
       "      <td>M</td>\n",
       "      <td>298.1</td>\n",
       "      <td>308.6</td>\n",
       "      <td>1551</td>\n",
       "      <td>42.8</td>\n",
       "      <td>0</td>\n",
       "      <td>0</td>\n",
       "      <td>No Failure</td>\n",
       "    </tr>\n",
       "    <tr>\n",
       "      <th>2</th>\n",
       "      <th>L47181</th>\n",
       "      <td>L</td>\n",
       "      <td>298.2</td>\n",
       "      <td>308.7</td>\n",
       "      <td>1408</td>\n",
       "      <td>46.3</td>\n",
       "      <td>3</td>\n",
       "      <td>0</td>\n",
       "      <td>No Failure</td>\n",
       "    </tr>\n",
       "    <tr>\n",
       "      <th>3</th>\n",
       "      <th>L47182</th>\n",
       "      <td>L</td>\n",
       "      <td>298.1</td>\n",
       "      <td>308.5</td>\n",
       "      <td>1498</td>\n",
       "      <td>49.4</td>\n",
       "      <td>5</td>\n",
       "      <td>0</td>\n",
       "      <td>No Failure</td>\n",
       "    </tr>\n",
       "    <tr>\n",
       "      <th>4</th>\n",
       "      <th>L47183</th>\n",
       "      <td>L</td>\n",
       "      <td>298.2</td>\n",
       "      <td>308.6</td>\n",
       "      <td>1433</td>\n",
       "      <td>39.5</td>\n",
       "      <td>7</td>\n",
       "      <td>0</td>\n",
       "      <td>No Failure</td>\n",
       "    </tr>\n",
       "    <tr>\n",
       "      <th>5</th>\n",
       "      <th>L47184</th>\n",
       "      <td>L</td>\n",
       "      <td>298.2</td>\n",
       "      <td>308.7</td>\n",
       "      <td>1408</td>\n",
       "      <td>40.0</td>\n",
       "      <td>9</td>\n",
       "      <td>0</td>\n",
       "      <td>No Failure</td>\n",
       "    </tr>\n",
       "  </tbody>\n",
       "</table>\n",
       "</div>"
      ],
      "text/plain": [
       "               Type  Air_temperature_[K]  Process_temperature_[K]  \\\n",
       "UDI Product_ID                                                      \n",
       "1   M14860        M                298.1                    308.6   \n",
       "2   L47181        L                298.2                    308.7   \n",
       "3   L47182        L                298.1                    308.5   \n",
       "4   L47183        L                298.2                    308.6   \n",
       "5   L47184        L                298.2                    308.7   \n",
       "\n",
       "                Rotational_speed_[rpm]  Torque_[Nm]  Tool_wear_[min]  Target  \\\n",
       "UDI Product_ID                                                                 \n",
       "1   M14860                        1551         42.8                0       0   \n",
       "2   L47181                        1408         46.3                3       0   \n",
       "3   L47182                        1498         49.4                5       0   \n",
       "4   L47183                        1433         39.5                7       0   \n",
       "5   L47184                        1408         40.0                9       0   \n",
       "\n",
       "               Failure_Type  \n",
       "UDI Product_ID               \n",
       "1   M14860       No Failure  \n",
       "2   L47181       No Failure  \n",
       "3   L47182       No Failure  \n",
       "4   L47183       No Failure  \n",
       "5   L47184       No Failure  "
      ]
     },
     "execution_count": 3,
     "metadata": {},
     "output_type": "execute_result"
    }
   ],
   "source": [
    "# Leer .csv y creo un DF\n",
    "df = pd.read_csv(datos_url, delimiter=\",\", index_col= [\"UDI\", \"Product_ID\"])\n",
    "df.head()"
   ]
  },
  {
   "cell_type": "code",
   "execution_count": 4,
   "metadata": {},
   "outputs": [
    {
     "name": "stdout",
     "output_type": "stream",
     "text": [
      "<class 'pandas.core.frame.DataFrame'>\n",
      "RangeIndex: 14491 entries, 0 to 14490\n",
      "Data columns (total 7 columns):\n",
      " #   Column                   Non-Null Count  Dtype  \n",
      "---  ------                   --------------  -----  \n",
      " 0   Type                     14491 non-null  object \n",
      " 1   Air_temperature_[K]      14491 non-null  float64\n",
      " 2   Process_temperature_[K]  14491 non-null  float64\n",
      " 3   Rotational_speed_[rpm]   14491 non-null  int64  \n",
      " 4   Torque_[Nm]              14491 non-null  float64\n",
      " 5   Tool_wear_[min]          14491 non-null  int64  \n",
      " 6   Failure_Type             14491 non-null  object \n",
      "dtypes: float64(3), int64(2), object(2)\n",
      "memory usage: 792.6+ KB\n"
     ]
    }
   ],
   "source": [
    "X= df.drop(\"Target\", axis=1) \n",
    "y= df[\"Target\"]\n",
    "# instantiating the random over sampler \n",
    "ros = RandomOverSampler(sampling_strategy=0.5)\n",
    "# resampling X, y\n",
    "X_ros, y_ros = ros.fit_resample(X, y)\n",
    "# new class distribution \n",
    "y_ros.value_counts()\n",
    "X_ros.info()"
   ]
  },
  {
   "cell_type": "code",
   "execution_count": 5,
   "metadata": {},
   "outputs": [
    {
     "name": "stdout",
     "output_type": "stream",
     "text": [
      "<class 'pandas.core.frame.DataFrame'>\n",
      "RangeIndex: 14652 entries, 0 to 14651\n",
      "Data columns (total 7 columns):\n",
      " #   Column                   Non-Null Count  Dtype  \n",
      "---  ------                   --------------  -----  \n",
      " 0   Type                     14652 non-null  object \n",
      " 1   Air_temperature_[K]      14652 non-null  float64\n",
      " 2   Process_temperature_[K]  14652 non-null  float64\n",
      " 3   Rotational_speed_[rpm]   14652 non-null  int64  \n",
      " 4   Torque_[Nm]              14652 non-null  float64\n",
      " 5   Tool_wear_[min]          14652 non-null  int64  \n",
      " 6   Target                   14652 non-null  int64  \n",
      "dtypes: float64(3), int64(3), object(1)\n",
      "memory usage: 801.4+ KB\n"
     ]
    }
   ],
   "source": [
    "X= df.drop(\"Failure_Type\", axis=1) \n",
    "y= df[\"Failure_Type\"]\n",
    "# instantiating the random over sampler \n",
    "ros = RandomOverSampler(sampling_strategy={\"Heat Dissipation Failure\":1000,\"Random Failures\":1000,\"Tool Wear Failure\":1000,\"Overstrain Failure\":1000, \"Power Failure\":1000})\n",
    "# resampling X, y\n",
    "X_ros, y_ros = ros.fit_resample(X, y)\n",
    "y_ros.value_counts()\n",
    "X_ros.info()"
   ]
  },
  {
   "cell_type": "code",
   "execution_count": 21,
   "metadata": {},
   "outputs": [
    {
     "data": {
      "text/plain": [
       "Heat Dissipation Failure    9652\n",
       "Random Failures             9652\n",
       "Tool Wear Failure           9652\n",
       "Overstrain Failure          9652\n",
       "No Failure                  9652\n",
       "Power Failure               9652\n",
       "Name: Failure_Type, dtype: int64"
      ]
     },
     "execution_count": 21,
     "metadata": {},
     "output_type": "execute_result"
    }
   ],
   "source": [
    "y_ros.value_counts()"
   ]
  }
 ],
 "metadata": {
  "interpreter": {
   "hash": "ed4a05ed57294198263d96b115eabb4afadb9cdb8c49ed782e310bec2e16ae86"
  },
  "kernelspec": {
   "display_name": "Python 3.8.5 64-bit ('base': conda)",
   "language": "python",
   "name": "python3"
  },
  "language_info": {
   "codemirror_mode": {
    "name": "ipython",
    "version": 3
   },
   "file_extension": ".py",
   "mimetype": "text/x-python",
   "name": "python",
   "nbconvert_exporter": "python",
   "pygments_lexer": "ipython3",
   "version": "3.8.5"
  },
  "orig_nbformat": 4
 },
 "nbformat": 4,
 "nbformat_minor": 2
}
