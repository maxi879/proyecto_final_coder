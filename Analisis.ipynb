{
 "cells": [
  {
   "cell_type": "code",
   "execution_count": 22,
   "metadata": {},
   "outputs": [],
   "source": [
    "                        ###########################################################\n",
    "                        ## Machine Predictive Maintenance Classification Dataset ##\n",
    "                        ###########################################################\n",
    "import pandas as pd\n",
    "import numpy as np\n",
    "import matplotlib as mpl\n",
    "import matplotlib.pyplot as plt\n",
    "import seaborn as sns\n",
    "\n",
    "# check version number\n",
    "import imblearn"
   ]
  },
  {
   "cell_type": "code",
   "execution_count": 23,
   "metadata": {},
   "outputs": [
    {
     "data": {
      "text/html": [
       "<div>\n",
       "<style scoped>\n",
       "    .dataframe tbody tr th:only-of-type {\n",
       "        vertical-align: middle;\n",
       "    }\n",
       "\n",
       "    .dataframe tbody tr th {\n",
       "        vertical-align: top;\n",
       "    }\n",
       "\n",
       "    .dataframe thead th {\n",
       "        text-align: right;\n",
       "    }\n",
       "</style>\n",
       "<table border=\"1\" class=\"dataframe\">\n",
       "  <thead>\n",
       "    <tr style=\"text-align: right;\">\n",
       "      <th></th>\n",
       "      <th></th>\n",
       "      <th>Type</th>\n",
       "      <th>Air temperature [K]</th>\n",
       "      <th>Process temperature [K]</th>\n",
       "      <th>Rotational speed [rpm]</th>\n",
       "      <th>Torque [Nm]</th>\n",
       "      <th>Tool wear [min]</th>\n",
       "      <th>Target</th>\n",
       "      <th>Failure Type</th>\n",
       "    </tr>\n",
       "    <tr>\n",
       "      <th>UDI</th>\n",
       "      <th>Product ID</th>\n",
       "      <th></th>\n",
       "      <th></th>\n",
       "      <th></th>\n",
       "      <th></th>\n",
       "      <th></th>\n",
       "      <th></th>\n",
       "      <th></th>\n",
       "      <th></th>\n",
       "    </tr>\n",
       "  </thead>\n",
       "  <tbody>\n",
       "    <tr>\n",
       "      <th>1</th>\n",
       "      <th>M14860</th>\n",
       "      <td>M</td>\n",
       "      <td>298.1</td>\n",
       "      <td>308.6</td>\n",
       "      <td>1551</td>\n",
       "      <td>42.8</td>\n",
       "      <td>0</td>\n",
       "      <td>0</td>\n",
       "      <td>No Failure</td>\n",
       "    </tr>\n",
       "    <tr>\n",
       "      <th>2</th>\n",
       "      <th>L47181</th>\n",
       "      <td>L</td>\n",
       "      <td>298.2</td>\n",
       "      <td>308.7</td>\n",
       "      <td>1408</td>\n",
       "      <td>46.3</td>\n",
       "      <td>3</td>\n",
       "      <td>0</td>\n",
       "      <td>No Failure</td>\n",
       "    </tr>\n",
       "    <tr>\n",
       "      <th>3</th>\n",
       "      <th>L47182</th>\n",
       "      <td>L</td>\n",
       "      <td>298.1</td>\n",
       "      <td>308.5</td>\n",
       "      <td>1498</td>\n",
       "      <td>49.4</td>\n",
       "      <td>5</td>\n",
       "      <td>0</td>\n",
       "      <td>No Failure</td>\n",
       "    </tr>\n",
       "    <tr>\n",
       "      <th>4</th>\n",
       "      <th>L47183</th>\n",
       "      <td>L</td>\n",
       "      <td>298.2</td>\n",
       "      <td>308.6</td>\n",
       "      <td>1433</td>\n",
       "      <td>39.5</td>\n",
       "      <td>7</td>\n",
       "      <td>0</td>\n",
       "      <td>No Failure</td>\n",
       "    </tr>\n",
       "    <tr>\n",
       "      <th>5</th>\n",
       "      <th>L47184</th>\n",
       "      <td>L</td>\n",
       "      <td>298.2</td>\n",
       "      <td>308.7</td>\n",
       "      <td>1408</td>\n",
       "      <td>40.0</td>\n",
       "      <td>9</td>\n",
       "      <td>0</td>\n",
       "      <td>No Failure</td>\n",
       "    </tr>\n",
       "  </tbody>\n",
       "</table>\n",
       "</div>"
      ],
      "text/plain": [
       "               Type  Air temperature [K]  Process temperature [K]  \\\n",
       "UDI Product ID                                                      \n",
       "1   M14860        M                298.1                    308.6   \n",
       "2   L47181        L                298.2                    308.7   \n",
       "3   L47182        L                298.1                    308.5   \n",
       "4   L47183        L                298.2                    308.6   \n",
       "5   L47184        L                298.2                    308.7   \n",
       "\n",
       "                Rotational speed [rpm]  Torque [Nm]  Tool wear [min]  Target  \\\n",
       "UDI Product ID                                                                 \n",
       "1   M14860                        1551         42.8                0       0   \n",
       "2   L47181                        1408         46.3                3       0   \n",
       "3   L47182                        1498         49.4                5       0   \n",
       "4   L47183                        1433         39.5                7       0   \n",
       "5   L47184                        1408         40.0                9       0   \n",
       "\n",
       "               Failure Type  \n",
       "UDI Product ID               \n",
       "1   M14860       No Failure  \n",
       "2   L47181       No Failure  \n",
       "3   L47182       No Failure  \n",
       "4   L47183       No Failure  \n",
       "5   L47184       No Failure  "
      ]
     },
     "execution_count": 23,
     "metadata": {},
     "output_type": "execute_result"
    }
   ],
   "source": [
    "# Leer .csv y creo un DF\n",
    "df = pd.read_csv('Base_predictive_maintenance.csv', delimiter=\",\", index_col= [\"UDI\", \"Product ID\"])\n",
    "df.head()"
   ]
  },
  {
   "cell_type": "code",
   "execution_count": 24,
   "metadata": {},
   "outputs": [
    {
     "name": "stdout",
     "output_type": "stream",
     "text": [
      "<class 'pandas.core.frame.DataFrame'>\n",
      "MultiIndex: 10000 entries, (1, 'M14860') to (10000, 'M24859')\n",
      "Data columns (total 8 columns):\n",
      " #   Column                   Non-Null Count  Dtype  \n",
      "---  ------                   --------------  -----  \n",
      " 0   Type                     10000 non-null  object \n",
      " 1   Air temperature [K]      10000 non-null  float64\n",
      " 2   Process temperature [K]  10000 non-null  float64\n",
      " 3   Rotational speed [rpm]   10000 non-null  int64  \n",
      " 4   Torque [Nm]              10000 non-null  float64\n",
      " 5   Tool wear [min]          10000 non-null  int64  \n",
      " 6   Target                   10000 non-null  int64  \n",
      " 7   Failure Type             10000 non-null  object \n",
      "dtypes: float64(3), int64(3), object(2)\n",
      "memory usage: 1.4+ MB\n"
     ]
    }
   ],
   "source": [
    "\n",
    "\n",
    "\n",
    "\n",
    "###############################################################   #\n",
    "    ##                                                       ###  ##\n",
    "  ####                                  ######################### ##\n",
    "    ##                                  ## Analisis General ##### ###\n",
    "    ##                                  ######################### ##\n",
    "    ##                                                       ###  ##\n",
    "    ##                                                       ##  #\n",
    "  ######                                                     ## \n",
    "###############################################################  \n",
    "# Datos del Frame\n",
    "df.info()"
   ]
  },
  {
   "cell_type": "code",
   "execution_count": 25,
   "metadata": {},
   "outputs": [
    {
     "data": {
      "text/html": [
       "<div>\n",
       "<style scoped>\n",
       "    .dataframe tbody tr th:only-of-type {\n",
       "        vertical-align: middle;\n",
       "    }\n",
       "\n",
       "    .dataframe tbody tr th {\n",
       "        vertical-align: top;\n",
       "    }\n",
       "\n",
       "    .dataframe thead th {\n",
       "        text-align: right;\n",
       "    }\n",
       "</style>\n",
       "<table border=\"1\" class=\"dataframe\">\n",
       "  <thead>\n",
       "    <tr style=\"text-align: right;\">\n",
       "      <th></th>\n",
       "      <th>Air temperature [K]</th>\n",
       "      <th>Process temperature [K]</th>\n",
       "      <th>Rotational speed [rpm]</th>\n",
       "      <th>Torque [Nm]</th>\n",
       "      <th>Tool wear [min]</th>\n",
       "      <th>Target</th>\n",
       "    </tr>\n",
       "  </thead>\n",
       "  <tbody>\n",
       "    <tr>\n",
       "      <th>count</th>\n",
       "      <td>10000.000000</td>\n",
       "      <td>10000.000000</td>\n",
       "      <td>10000.000000</td>\n",
       "      <td>10000.000000</td>\n",
       "      <td>10000.000000</td>\n",
       "      <td>10000.000000</td>\n",
       "    </tr>\n",
       "    <tr>\n",
       "      <th>mean</th>\n",
       "      <td>300.004930</td>\n",
       "      <td>310.005560</td>\n",
       "      <td>1538.776100</td>\n",
       "      <td>39.986910</td>\n",
       "      <td>107.951000</td>\n",
       "      <td>0.033900</td>\n",
       "    </tr>\n",
       "    <tr>\n",
       "      <th>std</th>\n",
       "      <td>2.000259</td>\n",
       "      <td>1.483734</td>\n",
       "      <td>179.284096</td>\n",
       "      <td>9.968934</td>\n",
       "      <td>63.654147</td>\n",
       "      <td>0.180981</td>\n",
       "    </tr>\n",
       "    <tr>\n",
       "      <th>min</th>\n",
       "      <td>295.300000</td>\n",
       "      <td>305.700000</td>\n",
       "      <td>1168.000000</td>\n",
       "      <td>3.800000</td>\n",
       "      <td>0.000000</td>\n",
       "      <td>0.000000</td>\n",
       "    </tr>\n",
       "    <tr>\n",
       "      <th>25%</th>\n",
       "      <td>298.300000</td>\n",
       "      <td>308.800000</td>\n",
       "      <td>1423.000000</td>\n",
       "      <td>33.200000</td>\n",
       "      <td>53.000000</td>\n",
       "      <td>0.000000</td>\n",
       "    </tr>\n",
       "    <tr>\n",
       "      <th>50%</th>\n",
       "      <td>300.100000</td>\n",
       "      <td>310.100000</td>\n",
       "      <td>1503.000000</td>\n",
       "      <td>40.100000</td>\n",
       "      <td>108.000000</td>\n",
       "      <td>0.000000</td>\n",
       "    </tr>\n",
       "    <tr>\n",
       "      <th>75%</th>\n",
       "      <td>301.500000</td>\n",
       "      <td>311.100000</td>\n",
       "      <td>1612.000000</td>\n",
       "      <td>46.800000</td>\n",
       "      <td>162.000000</td>\n",
       "      <td>0.000000</td>\n",
       "    </tr>\n",
       "    <tr>\n",
       "      <th>max</th>\n",
       "      <td>304.500000</td>\n",
       "      <td>313.800000</td>\n",
       "      <td>2886.000000</td>\n",
       "      <td>76.600000</td>\n",
       "      <td>253.000000</td>\n",
       "      <td>1.000000</td>\n",
       "    </tr>\n",
       "  </tbody>\n",
       "</table>\n",
       "</div>"
      ],
      "text/plain": [
       "       Air temperature [K]  Process temperature [K]  Rotational speed [rpm]  \\\n",
       "count         10000.000000             10000.000000            10000.000000   \n",
       "mean            300.004930               310.005560             1538.776100   \n",
       "std               2.000259                 1.483734              179.284096   \n",
       "min             295.300000               305.700000             1168.000000   \n",
       "25%             298.300000               308.800000             1423.000000   \n",
       "50%             300.100000               310.100000             1503.000000   \n",
       "75%             301.500000               311.100000             1612.000000   \n",
       "max             304.500000               313.800000             2886.000000   \n",
       "\n",
       "        Torque [Nm]  Tool wear [min]        Target  \n",
       "count  10000.000000     10000.000000  10000.000000  \n",
       "mean      39.986910       107.951000      0.033900  \n",
       "std        9.968934        63.654147      0.180981  \n",
       "min        3.800000         0.000000      0.000000  \n",
       "25%       33.200000        53.000000      0.000000  \n",
       "50%       40.100000       108.000000      0.000000  \n",
       "75%       46.800000       162.000000      0.000000  \n",
       "max       76.600000       253.000000      1.000000  "
      ]
     },
     "execution_count": 25,
     "metadata": {},
     "output_type": "execute_result"
    }
   ],
   "source": [
    "# Estadistica\n",
    "df.describe()"
   ]
  },
  {
   "cell_type": "code",
   "execution_count": 26,
   "metadata": {},
   "outputs": [
    {
     "data": {
      "text/html": [
       "<div>\n",
       "<style scoped>\n",
       "    .dataframe tbody tr th:only-of-type {\n",
       "        vertical-align: middle;\n",
       "    }\n",
       "\n",
       "    .dataframe tbody tr th {\n",
       "        vertical-align: top;\n",
       "    }\n",
       "\n",
       "    .dataframe thead th {\n",
       "        text-align: right;\n",
       "    }\n",
       "</style>\n",
       "<table border=\"1\" class=\"dataframe\">\n",
       "  <thead>\n",
       "    <tr style=\"text-align: right;\">\n",
       "      <th></th>\n",
       "      <th>count</th>\n",
       "      <th>mean</th>\n",
       "      <th>std</th>\n",
       "      <th>min</th>\n",
       "      <th>25%</th>\n",
       "      <th>50%</th>\n",
       "      <th>75%</th>\n",
       "      <th>max</th>\n",
       "    </tr>\n",
       "  </thead>\n",
       "  <tbody>\n",
       "    <tr>\n",
       "      <th>Air temperature [K]</th>\n",
       "      <td>10000.0</td>\n",
       "      <td>300.00493</td>\n",
       "      <td>2.000259</td>\n",
       "      <td>295.3</td>\n",
       "      <td>298.3</td>\n",
       "      <td>300.1</td>\n",
       "      <td>301.5</td>\n",
       "      <td>304.5</td>\n",
       "    </tr>\n",
       "    <tr>\n",
       "      <th>Process temperature [K]</th>\n",
       "      <td>10000.0</td>\n",
       "      <td>310.00556</td>\n",
       "      <td>1.483734</td>\n",
       "      <td>305.7</td>\n",
       "      <td>308.8</td>\n",
       "      <td>310.1</td>\n",
       "      <td>311.1</td>\n",
       "      <td>313.8</td>\n",
       "    </tr>\n",
       "    <tr>\n",
       "      <th>Rotational speed [rpm]</th>\n",
       "      <td>10000.0</td>\n",
       "      <td>1538.77610</td>\n",
       "      <td>179.284096</td>\n",
       "      <td>1168.0</td>\n",
       "      <td>1423.0</td>\n",
       "      <td>1503.0</td>\n",
       "      <td>1612.0</td>\n",
       "      <td>2886.0</td>\n",
       "    </tr>\n",
       "    <tr>\n",
       "      <th>Torque [Nm]</th>\n",
       "      <td>10000.0</td>\n",
       "      <td>39.98691</td>\n",
       "      <td>9.968934</td>\n",
       "      <td>3.8</td>\n",
       "      <td>33.2</td>\n",
       "      <td>40.1</td>\n",
       "      <td>46.8</td>\n",
       "      <td>76.6</td>\n",
       "    </tr>\n",
       "    <tr>\n",
       "      <th>Tool wear [min]</th>\n",
       "      <td>10000.0</td>\n",
       "      <td>107.95100</td>\n",
       "      <td>63.654147</td>\n",
       "      <td>0.0</td>\n",
       "      <td>53.0</td>\n",
       "      <td>108.0</td>\n",
       "      <td>162.0</td>\n",
       "      <td>253.0</td>\n",
       "    </tr>\n",
       "    <tr>\n",
       "      <th>Target</th>\n",
       "      <td>10000.0</td>\n",
       "      <td>0.03390</td>\n",
       "      <td>0.180981</td>\n",
       "      <td>0.0</td>\n",
       "      <td>0.0</td>\n",
       "      <td>0.0</td>\n",
       "      <td>0.0</td>\n",
       "      <td>1.0</td>\n",
       "    </tr>\n",
       "  </tbody>\n",
       "</table>\n",
       "</div>"
      ],
      "text/plain": [
       "                           count        mean         std     min     25%  \\\n",
       "Air temperature [K]      10000.0   300.00493    2.000259   295.3   298.3   \n",
       "Process temperature [K]  10000.0   310.00556    1.483734   305.7   308.8   \n",
       "Rotational speed [rpm]   10000.0  1538.77610  179.284096  1168.0  1423.0   \n",
       "Torque [Nm]              10000.0    39.98691    9.968934     3.8    33.2   \n",
       "Tool wear [min]          10000.0   107.95100   63.654147     0.0    53.0   \n",
       "Target                   10000.0     0.03390    0.180981     0.0     0.0   \n",
       "\n",
       "                            50%     75%     max  \n",
       "Air temperature [K]       300.1   301.5   304.5  \n",
       "Process temperature [K]   310.1   311.1   313.8  \n",
       "Rotational speed [rpm]   1503.0  1612.0  2886.0  \n",
       "Torque [Nm]                40.1    46.8    76.6  \n",
       "Tool wear [min]           108.0   162.0   253.0  \n",
       "Target                      0.0     0.0     1.0  "
      ]
     },
     "execution_count": 26,
     "metadata": {},
     "output_type": "execute_result"
    }
   ],
   "source": [
    "# Estadistica Transpuesta\n",
    "df.describe().T"
   ]
  },
  {
   "cell_type": "code",
   "execution_count": 27,
   "metadata": {},
   "outputs": [
    {
     "name": "stdout",
     "output_type": "stream",
     "text": [
      "0    9661\n",
      "1     339\n",
      "Name: Target, dtype: int64\n"
     ]
    }
   ],
   "source": [
    "# Variable Target_1 desbalanceada\n",
    "print(df[\"Target\"].value_counts())"
   ]
  },
  {
   "cell_type": "code",
   "execution_count": 28,
   "metadata": {},
   "outputs": [
    {
     "name": "stdout",
     "output_type": "stream",
     "text": [
      "No Failure                  9652\n",
      "Heat Dissipation Failure     112\n",
      "Power Failure                 95\n",
      "Overstrain Failure            78\n",
      "Tool Wear Failure             45\n",
      "Random Failures               18\n",
      "Name: Failure Type, dtype: int64\n"
     ]
    }
   ],
   "source": [
    "# Variable Target_2 desbalanceada\n",
    "print(df[\"Failure Type\"].value_counts())"
   ]
  },
  {
   "cell_type": "code",
   "execution_count": 29,
   "metadata": {},
   "outputs": [
    {
     "name": "stdout",
     "output_type": "stream",
     "text": [
      "['Type', 'Failure Type'] ['Rotational speed [rpm]', 'Tool wear [min]', 'Target'] ['Air temperature [K]', 'Process temperature [K]', 'Torque [Nm]']\n"
     ]
    }
   ],
   "source": [
    "# Clasificacion de variables por type data\n",
    "    # Variable Failure Type es catergorica, pero TARGET SEGUN descripcion_Base1.txt .\n",
    "categorical= []\n",
    "int= []\n",
    "float= []\n",
    "for aux in df.columns:\n",
    "  if df[aux].dtypes== 'object':\n",
    "    categorical.append(aux)\n",
    "  elif df[aux].dtypes== 'int64':\n",
    "    int.append(aux)\n",
    "  elif df[aux].dtypes== 'float64':\n",
    "    float.append(aux)\n",
    "print(categorical, int, float)\n"
   ]
  },
  {
   "cell_type": "code",
   "execution_count": 30,
   "metadata": {
    "scrolled": true
   },
   "outputs": [
    {
     "name": "stdout",
     "output_type": "stream",
     "text": [
      "Type\n",
      "count     10000\n",
      "unique        3\n",
      "top           L\n",
      "freq       6000\n",
      "Name: Type, dtype: object\n",
      "\n",
      "Failure Type\n",
      "count          10000\n",
      "unique             6\n",
      "top       No Failure\n",
      "freq            9652\n",
      "Name: Failure Type, dtype: object\n",
      "\n"
     ]
    }
   ],
   "source": [
    "#####################################################################################################################\n",
    "\n",
    "                                    #############################\n",
    "                                    ## Analisis de Categoricas ##\n",
    "                                    #############################\n",
    "\n",
    "#####################################################################################################################\n",
    "#Distr de los datos, V. categoricas\n",
    "for cat in  categorical:\n",
    "    print(cat)\n",
    "    print(df[cat].describe())\n",
    "    print()\n",
    "\n",
    "    "
   ]
  },
  {
   "cell_type": "code",
   "execution_count": 31,
   "metadata": {},
   "outputs": [
    {
     "name": "stderr",
     "output_type": "stream",
     "text": [
      "C:\\Users\\maxib\\anaconda3\\lib\\site-packages\\seaborn\\_decorators.py:36: FutureWarning: Pass the following variable as a keyword arg: x. From version 0.12, the only valid positional argument will be `data`, and passing other arguments without an explicit keyword will result in an error or misinterpretation.\n",
      "  warnings.warn(\n"
     ]
    },
    {
     "data": {
      "image/png": "[encoded data removed]",
      "text/plain": [
       "<Figure size 432x288 with 1 Axes>"
      ]
     },
     "metadata": {
      "needs_background": "light"
     },
     "output_type": "display_data"
    },
    {
     "data": {
      "text/plain": [
       "'\\nSe observan lo especificado en \\n'"
      ]
     },
     "execution_count": 31,
     "metadata": {},
     "output_type": "execute_result"
    }
   ],
   "source": [
    "# Analisis Variable Type RECUENTO\n",
    "draw = sns.countplot(df[\"Type\"])\n",
    "draw.set_xticklabels(draw.get_xticklabels(), rotation=45, ha=\"right\")\n",
    "plt.show()\n",
    "\"\"\"\n",
    "Se observan lo especificado en \n",
    "\"\"\""
   ]
  },
  {
   "cell_type": "code",
   "execution_count": 32,
   "metadata": {},
   "outputs": [
    {
     "data": {
      "text/html": [
       "<div>\n",
       "<style scoped>\n",
       "    .dataframe tbody tr th:only-of-type {\n",
       "        vertical-align: middle;\n",
       "    }\n",
       "\n",
       "    .dataframe tbody tr th {\n",
       "        vertical-align: top;\n",
       "    }\n",
       "\n",
       "    .dataframe thead th {\n",
       "        text-align: right;\n",
       "    }\n",
       "</style>\n",
       "<table border=\"1\" class=\"dataframe\">\n",
       "  <thead>\n",
       "    <tr style=\"text-align: right;\">\n",
       "      <th></th>\n",
       "      <th>Frec_abs</th>\n",
       "      <th>Frec_abs_acum</th>\n",
       "      <th>Frec_rel_%</th>\n",
       "      <th>Frec_rel_%_acum</th>\n",
       "    </tr>\n",
       "  </thead>\n",
       "  <tbody>\n",
       "    <tr>\n",
       "      <th>L</th>\n",
       "      <td>6000</td>\n",
       "      <td>6000</td>\n",
       "      <td>60.00</td>\n",
       "      <td>60.00</td>\n",
       "    </tr>\n",
       "    <tr>\n",
       "      <th>M</th>\n",
       "      <td>2997</td>\n",
       "      <td>8997</td>\n",
       "      <td>29.97</td>\n",
       "      <td>89.97</td>\n",
       "    </tr>\n",
       "    <tr>\n",
       "      <th>H</th>\n",
       "      <td>1003</td>\n",
       "      <td>10000</td>\n",
       "      <td>10.03</td>\n",
       "      <td>100.00</td>\n",
       "    </tr>\n",
       "  </tbody>\n",
       "</table>\n",
       "</div>"
      ],
      "text/plain": [
       "   Frec_abs  Frec_abs_acum  Frec_rel_%  Frec_rel_%_acum\n",
       "L      6000           6000       60.00            60.00\n",
       "M      2997           8997       29.97            89.97\n",
       "H      1003          10000       10.03           100.00"
      ]
     },
     "execution_count": 32,
     "metadata": {},
     "output_type": "execute_result"
    }
   ],
   "source": [
    "                                        ##################################################\n",
    "                                        ## Analisis de frecuencias variable categoricas ##\n",
    "                                        ##################################################\n",
    "# Frecuencia Variable Type\n",
    "frec_df= pd.DataFrame(df[\"Type\"].value_counts())\n",
    "# Renombramos el value_count como frecuencia absoluta\n",
    "frec_df.rename(columns={\"Type\":\"Frec_abs\"},inplace=True)\n",
    "# Calculamos la frecuencia absoluta acumulada\n",
    "frec_acum= []\n",
    "aux_acum= 0\n",
    "for i in (frec_df[\"Frec_abs\"].values):\n",
    "    aux_acum= aux_acum + i\n",
    "    frec_acum.append(aux_acum)\n",
    "frec_df[\"Frec_abs_acum\"]= frec_acum\n",
    "# Frecuencia Relativa en % \n",
    "frec_df[\"Frec_rel_%\"]= 100 * frec_df[\"Frec_abs\"]/len(df.Type)\n",
    "# Valores de las Frecuencias relativas\n",
    "frec_rel_val= frec_df[\"Frec_rel_%\"].values\n",
    "frec_rel_acum= []\n",
    "aux_acum= 0\n",
    "for i in frec_rel_val:\n",
    "    aux_acum= aux_acum + i\n",
    "    frec_rel_acum.append(aux_acum)\n",
    "frec_df[\"Frec_rel_%_acum\"]= frec_rel_acum\n",
    "frec_df"
   ]
  },
  {
   "cell_type": "code",
   "execution_count": 33,
   "metadata": {},
   "outputs": [
    {
     "data": {
      "image/png": "[encoded data removed]",
      "text/plain": [
       "<Figure size 514.5x360 with 1 Axes>"
      ]
     },
     "metadata": {
      "needs_background": "light"
     },
     "output_type": "display_data"
    },
    {
     "data": {
      "text/plain": [
       "'\\nEn el grafico se puede ver un gran desbalance entre los registros sin fallas y los que representan fallas. \\nse procedera a ignorar los registros de No Failure(Outlier).\\n'"
      ]
     },
     "execution_count": 33,
     "metadata": {},
     "output_type": "execute_result"
    }
   ],
   "source": [
    "# Recuento de la variable Target_2\n",
    "draw = sns.catplot(x=\"Target\", hue=\"Failure Type\", data=df, kind=\"count\")\n",
    "draw.set_xticklabels(rotation=45, ha=\"right\")\n",
    "plt.show()\n",
    "\"\"\"\n",
    "En el grafico se puede ver un gran desbalance entre los registros sin fallas y los que representan fallas. \n",
    "se procedera a ignorar los registros de No Failure(Outlier).\n",
    "\"\"\""
   ]
  },
  {
   "cell_type": "code",
   "execution_count": 34,
   "metadata": {},
   "outputs": [],
   "source": [
    "# Filtramos variables para centrarnos en los momentos de falla \n",
    "fallas= df[df['Failure Type']!=\"No Failure\"]"
   ]
  },
  {
   "cell_type": "code",
   "execution_count": 45,
   "metadata": {},
   "outputs": [
    {
     "name": "stderr",
     "output_type": "stream",
     "text": [
      "C:\\Users\\maxib\\anaconda3\\lib\\site-packages\\seaborn\\_decorators.py:36: FutureWarning: Pass the following variable as a keyword arg: x. From version 0.12, the only valid positional argument will be `data`, and passing other arguments without an explicit keyword will result in an error or misinterpretation.\n",
      "  warnings.warn(\n"
     ]
    },
    {
     "data": {
      "text/plain": [
       "'Este grafico muestra como se distribuyen los puntos de rotura, sin embargo son pocos los registros que se ven representados en este grafico'"
      ]
     },
     "execution_count": 45,
     "metadata": {},
     "output_type": "execute_result"
    },
    {
     "data": {
      "image/png": "[encoded data removed]",
      "text/plain": [
       "<Figure size 432x288 with 1 Axes>"
      ]
     },
     "metadata": {
      "needs_background": "light"
     },
     "output_type": "display_data"
    }
   ],
   "source": [
    "# Graficamos un conteo de roturas \n",
    "grafico= sns.countplot(fallas[\"Failure Type\"])\n",
    "grafico.set_xticklabels(grafico.get_xticklabels(), rotation=45, ha=\"right\")\n",
    "\"\"\"Este grafico muestra como se distribuyen los puntos de rotura, sin embargo son pocos los registros que se ven representados en este grafico\"\"\""
   ]
  },
  {
   "cell_type": "code",
   "execution_count": 36,
   "metadata": {},
   "outputs": [
    {
     "name": "stderr",
     "output_type": "stream",
     "text": [
      "C:\\Users\\maxib\\anaconda3\\lib\\site-packages\\seaborn\\_decorators.py:36: FutureWarning: Pass the following variable as a keyword arg: x. From version 0.12, the only valid positional argument will be `data`, and passing other arguments without an explicit keyword will result in an error or misinterpretation.\n",
      "  warnings.warn(\n"
     ]
    },
    {
     "data": {
      "image/png": "[encoded data removed]",
      "text/plain": [
       "<Figure size 432x288 with 1 Axes>"
      ]
     },
     "metadata": {
      "needs_background": "light"
     },
     "output_type": "display_data"
    }
   ],
   "source": [
    "# Conteo de type segmentado segú\n",
    "draw = sns.countplot(df[\"Type\"], hue= df['Target'])\n",
    "draw.set_xticklabels(draw.get_xticklabels(), rotation=45, ha=\"right\")\n",
    "plt.show()"
   ]
  },
  {
   "cell_type": "code",
   "execution_count": 37,
   "metadata": {},
   "outputs": [
    {
     "name": "stderr",
     "output_type": "stream",
     "text": [
      "C:\\Users\\maxib\\anaconda3\\lib\\site-packages\\seaborn\\_decorators.py:36: FutureWarning: Pass the following variable as a keyword arg: x. From version 0.12, the only valid positional argument will be `data`, and passing other arguments without an explicit keyword will result in an error or misinterpretation.\n",
      "  warnings.warn(\n"
     ]
    },
    {
     "data": {
      "image/png": "[encoded data removed]",
      "text/plain": [
       "<Figure size 432x288 with 1 Axes>"
      ]
     },
     "metadata": {
      "needs_background": "light"
     },
     "output_type": "display_data"
    }
   ],
   "source": [
    "# Conteo segmentacion \n",
    "draw = sns.countplot(fallas[\"Type\"], hue= fallas['Failure Type'])\n",
    "draw.set_xticklabels(draw.get_xticklabels(), rotation=45, ha=\"right\")\n",
    "plt.show()"
   ]
  },
  {
   "cell_type": "code",
   "execution_count": 50,
   "metadata": {},
   "outputs": [
    {
     "name": "stdout",
     "output_type": "stream",
     "text": [
      "Rotational speed [rpm]\n"
     ]
    },
    {
     "data": {
      "image/png": "[encoded data removed]",
      "text/plain": [
       "<Figure size 432x288 with 1 Axes>"
      ]
     },
     "metadata": {
      "needs_background": "light"
     },
     "output_type": "display_data"
    },
    {
     "name": "stdout",
     "output_type": "stream",
     "text": [
      "Tool wear [min]\n"
     ]
    },
    {
     "data": {
      "image/png": "[encoded data removed]",
      "text/plain": [
       "<Figure size 432x288 with 1 Axes>"
      ]
     },
     "metadata": {
      "needs_background": "light"
     },
     "output_type": "display_data"
    },
    {
     "name": "stdout",
     "output_type": "stream",
     "text": [
      "Target\n",
      "Target es un outlier debido a que su valor es 0 o 1\n"
     ]
    },
    {
     "data": {
      "image/png": "[encoded data removed]",
      "text/plain": [
       "<Figure size 432x288 with 1 Axes>"
      ]
     },
     "metadata": {
      "needs_background": "light"
     },
     "output_type": "display_data"
    }
   ],
   "source": [
    "                          #####################################\n",
    "                          ## Analisis de variables Numericas ##\n",
    "                          #####################################\n",
    "# Analisis de int\n",
    "for aux in int:\n",
    "  print(aux)\n",
    "  if aux== \"Target\":\n",
    "    print(\"Target es un outlier debido a que su valor es 0 o 1\")\n",
    "  draw = sns.boxplot(y=df[aux], data=df, hue=df['Target'])\n",
    "  draw.set_xticklabels(draw.get_xticklabels(), rotation=45, ha=\"right\")\n",
    "  plt.show()\n",
    "  "
   ]
  },
  {
   "cell_type": "code",
   "execution_count": 59,
   "metadata": {},
   "outputs": [
    {
     "data": {
      "text/plain": [
       "'La produccion de el elemento L es el mas producido y el que ma'"
      ]
     },
     "execution_count": 59,
     "metadata": {},
     "output_type": "execute_result"
    },
    {
     "data": {
      "image/png": "[encoded data removed]",
      "text/plain": [
       "<Figure size 432x288 with 1 Axes>"
      ]
     },
     "metadata": {
      "needs_background": "light"
     },
     "output_type": "display_data"
    }
   ],
   "source": [
    "# Histogramas de desgaste.\n",
    "hist= sns.histplot(y=df[\"Tool wear [min]\"], x=df[\"Type\"])\n",
    "\"La produccion de el elemento L es el mas producido y el que mas desgaste de la herramienta produce\""
   ]
  },
  {
   "cell_type": "code",
   "execution_count": 48,
   "metadata": {},
   "outputs": [
    {
     "name": "stdout",
     "output_type": "stream",
     "text": [
      "Air temperature [K]\n"
     ]
    },
    {
     "data": {
      "image/png": "[encoded data removed]",
      "text/plain": [
       "<Figure size 432x288 with 1 Axes>"
      ]
     },
     "metadata": {
      "needs_background": "light"
     },
     "output_type": "display_data"
    },
    {
     "name": "stdout",
     "output_type": "stream",
     "text": [
      "Process temperature [K]\n"
     ]
    },
    {
     "data": {
      "image/png": "[encoded data removed]",
      "text/plain": [
       "<Figure size 432x288 with 1 Axes>"
      ]
     },
     "metadata": {
      "needs_background": "light"
     },
     "output_type": "display_data"
    },
    {
     "name": "stdout",
     "output_type": "stream",
     "text": [
      "Torque [Nm]\n"
     ]
    },
    {
     "data": {
      "image/png": "[encoded data removed]",
      "text/plain": [
       "<Figure size 432x288 with 1 Axes>"
      ]
     },
     "metadata": {
      "needs_background": "light"
     },
     "output_type": "display_data"
    }
   ],
   "source": [
    "# Analisis de float\n",
    "for aux in float:\n",
    "  print(aux)\n",
    "  draw = sns.boxplot(y=df[aux], data=df, hue=df['Target'])\n",
    "  draw.set_xticklabels(draw.get_xticklabels(), rotation=45, ha=\"right\")\n",
    "  plt.show()"
   ]
  },
  {
   "cell_type": "code",
   "execution_count": null,
   "metadata": {},
   "outputs": [
    {
     "data": {
      "text/plain": [
       "Text(0.5, 1.05, 'Correlacion de Pearson variables numéricas')"
      ]
     },
     "execution_count": 19,
     "metadata": {},
     "output_type": "execute_result"
    },
    {
     "data": {
      "image/png": "[encoded data removed]",
      "text/plain": [
       "<Figure size 720x864 with 2 Axes>"
      ]
     },
     "metadata": {
      "needs_background": "light"
     },
     "output_type": "display_data"
    }
   ],
   "source": [
    "                                ########################\n",
    "                                ## Analisis Bivariado ##\n",
    "                                ########################\n",
    "# Ploteamos un grafico de correlación de Pearson\n",
    "corr = df.corr()\n",
    "\n",
    "fig, ax = plt.subplots(figsize=(10,12))\n",
    "\n",
    "cmap = sns.diverging_palette(220, 10, as_cmap=True)\n",
    "\n",
    "_ = sns.heatmap(corr, cmap=\"magma\", square=True, ax=ax, annot=True, linewidth=0.1)\n",
    "\n",
    "plt.title(\"Correlacion de Pearson variables numéricas\", y=1.05, size=15)"
   ]
  },
  {
   "cell_type": "code",
   "execution_count": null,
   "metadata": {},
   "outputs": [],
   "source": [
    "# Analisis bivariado"
   ]
  },
  {
   "cell_type": "code",
   "execution_count": null,
   "metadata": {},
   "outputs": [],
   "source": [
    "                                        ##################################################\n",
    "                                        ## Analisis de frecuencias variable categoricas ##\n",
    "                                        ##################################################\n",
    "# Frecuencias de Columna TYPE\n",
    "frec_df= pd.DataFrame(df[\"Type\"].value_counts())\n",
    "# Renombramos el value_count como frecuencia absoluta\n",
    "frec_df.rename(columns={\"Type\":\"Frec_abs\"},inplace=True)"
   ]
  },
  {
   "cell_type": "code",
   "execution_count": null,
   "metadata": {},
   "outputs": [
    {
     "data": {
      "text/html": [
       "<div>\n",
       "<style scoped>\n",
       "    .dataframe tbody tr th:only-of-type {\n",
       "        vertical-align: middle;\n",
       "    }\n",
       "\n",
       "    .dataframe tbody tr th {\n",
       "        vertical-align: top;\n",
       "    }\n",
       "\n",
       "    .dataframe thead th {\n",
       "        text-align: right;\n",
       "    }\n",
       "</style>\n",
       "<table border=\"1\" class=\"dataframe\">\n",
       "  <thead>\n",
       "    <tr style=\"text-align: right;\">\n",
       "      <th></th>\n",
       "      <th>Frec_abs</th>\n",
       "      <th>Frec_abs_acum</th>\n",
       "    </tr>\n",
       "  </thead>\n",
       "  <tbody>\n",
       "    <tr>\n",
       "      <th>L</th>\n",
       "      <td>6000</td>\n",
       "      <td>6000</td>\n",
       "    </tr>\n",
       "    <tr>\n",
       "      <th>M</th>\n",
       "      <td>2997</td>\n",
       "      <td>8997</td>\n",
       "    </tr>\n",
       "    <tr>\n",
       "      <th>H</th>\n",
       "      <td>1003</td>\n",
       "      <td>10000</td>\n",
       "    </tr>\n",
       "  </tbody>\n",
       "</table>\n",
       "</div>"
      ],
      "text/plain": [
       "   Frec_abs  Frec_abs_acum\n",
       "L      6000           6000\n",
       "M      2997           8997\n",
       "H      1003          10000"
      ]
     },
     "execution_count": 42,
     "metadata": {},
     "output_type": "execute_result"
    }
   ],
   "source": [
    "# Calculamos la frecuencia absoluta acumulada\n",
    "frec_acum= []\n",
    "aux_acum= 0\n",
    "for i in (frec_df[\"Frec_abs\"].values):\n",
    "    aux_acum= aux_acum + i\n",
    "    frec_acum.append(aux_acum)\n",
    "frec_df[\"Frec_abs_acum\"]= frec_acum\n",
    "frec_df"
   ]
  },
  {
   "cell_type": "code",
   "execution_count": null,
   "metadata": {},
   "outputs": [],
   "source": [
    "# Frecuencia Relativa en % \n",
    "frec_df[\"Frec_rel_%\"]= 100 * frec_df[\"Frec_abs\"]/len(df.Type)\n"
   ]
  },
  {
   "cell_type": "code",
   "execution_count": null,
   "metadata": {},
   "outputs": [
    {
     "data": {
      "text/html": [
       "<div>\n",
       "<style scoped>\n",
       "    .dataframe tbody tr th:only-of-type {\n",
       "        vertical-align: middle;\n",
       "    }\n",
       "\n",
       "    .dataframe tbody tr th {\n",
       "        vertical-align: top;\n",
       "    }\n",
       "\n",
       "    .dataframe thead th {\n",
       "        text-align: right;\n",
       "    }\n",
       "</style>\n",
       "<table border=\"1\" class=\"dataframe\">\n",
       "  <thead>\n",
       "    <tr style=\"text-align: right;\">\n",
       "      <th></th>\n",
       "      <th>Frec_abs</th>\n",
       "      <th>Frec_abs_acum</th>\n",
       "      <th>Frec_rel_%</th>\n",
       "      <th>Frec_rel_%_acum</th>\n",
       "    </tr>\n",
       "  </thead>\n",
       "  <tbody>\n",
       "    <tr>\n",
       "      <th>L</th>\n",
       "      <td>6000</td>\n",
       "      <td>6000</td>\n",
       "      <td>60.00</td>\n",
       "      <td>60.00</td>\n",
       "    </tr>\n",
       "    <tr>\n",
       "      <th>M</th>\n",
       "      <td>2997</td>\n",
       "      <td>8997</td>\n",
       "      <td>29.97</td>\n",
       "      <td>89.97</td>\n",
       "    </tr>\n",
       "    <tr>\n",
       "      <th>H</th>\n",
       "      <td>1003</td>\n",
       "      <td>10000</td>\n",
       "      <td>10.03</td>\n",
       "      <td>100.00</td>\n",
       "    </tr>\n",
       "  </tbody>\n",
       "</table>\n",
       "</div>"
      ],
      "text/plain": [
       "   Frec_abs  Frec_abs_acum  Frec_rel_%  Frec_rel_%_acum\n",
       "L      6000           6000       60.00            60.00\n",
       "M      2997           8997       29.97            89.97\n",
       "H      1003          10000       10.03           100.00"
      ]
     },
     "execution_count": 45,
     "metadata": {},
     "output_type": "execute_result"
    }
   ],
   "source": [
    "# Valores de las Frecuencias relativas\n",
    "frec_rel_val= frec_df[\"Frec_rel_%\"].values\n",
    "frec_rel_acum= []\n",
    "aux_acum= 0\n",
    "for i in frec_rel_val:\n",
    "    aux_acum= aux_acum + i\n",
    "    frec_rel_acum.append(aux_acum)\n",
    "frec_df[\"Frec_rel_%_acum\"]= frec_rel_acum\n",
    "frec_df"
   ]
  },
  {
   "cell_type": "code",
   "execution_count": null,
   "metadata": {},
   "outputs": [],
   "source": []
  }
 ],
 "metadata": {
  "kernelspec": {
   "display_name": "Python 3",
   "language": "python",
   "name": "python3"
  },
  "language_info": {
   "codemirror_mode": {
    "name": "ipython",
    "version": 3
   },
   "file_extension": ".py",
   "mimetype": "text/x-python",
   "name": "python",
   "nbconvert_exporter": "python",
   "pygments_lexer": "ipython3",
   "version": "3.8.5"
  }
 },
 "nbformat": 4,
 "nbformat_minor": 4
}
