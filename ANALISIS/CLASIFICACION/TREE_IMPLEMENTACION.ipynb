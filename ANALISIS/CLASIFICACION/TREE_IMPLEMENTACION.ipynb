{
 "cells": [
  {
   "cell_type": "code",
   "execution_count": 25,
   "metadata": {},
   "outputs": [],
   "source": [
    "# IMPLEMENTACION DE Synthetic Minority Oversampling Technique (SMOTE)\n",
    "import warnings\n",
    "warnings.filterwarnings('ignore')\n",
    "import pandas as pd\n",
    "import numpy as np\n",
    "import matplotlib as mpl\n",
    "import matplotlib.pyplot as plt\n",
    "import seaborn as sns\n",
    "import itertools\n",
    "from sklearn.svm import LinearSVC\n",
    "from sklearn.datasets import make_classification\n",
    "from mlxtend.plotting import plot_decision_regions\n",
    "import matplotlib.gridspec as gridspec\n",
    "from matplotlib import pyplot as plt\n",
    "from imblearn.over_sampling import  RandomOverSampler\n",
    "from sklearn.multiclass import OneVsRestClassifier\n",
    "from sklearn.ensemble import RandomForestClassifier\n",
    "from sklearn.metrics import roc_curve\n",
    "from sklearn .metrics import roc_auc_score\n",
    "from sklearn.model_selection import train_test_split\n",
    "from sklearn.tree import DecisionTreeClassifier \n",
    "from sklearn.metrics import accuracy_score\n",
    "from sklearn import metrics\n",
    "%matplotlib inline\n",
    "datos_url= \"C://Users/maxib/Source/repos/proyecto_final_coder/datos/Base_predictive_maintenance.csv\""
   ]
  },
  {
   "cell_type": "code",
   "execution_count": 2,
   "metadata": {},
   "outputs": [
    {
     "data": {
      "text/html": [
       "<div>\n",
       "<style scoped>\n",
       "    .dataframe tbody tr th:only-of-type {\n",
       "        vertical-align: middle;\n",
       "    }\n",
       "\n",
       "    .dataframe tbody tr th {\n",
       "        vertical-align: top;\n",
       "    }\n",
       "\n",
       "    .dataframe thead th {\n",
       "        text-align: right;\n",
       "    }\n",
       "</style>\n",
       "<table border=\"1\" class=\"dataframe\">\n",
       "  <thead>\n",
       "    <tr style=\"text-align: right;\">\n",
       "      <th></th>\n",
       "      <th></th>\n",
       "      <th>Type</th>\n",
       "      <th>Air_temperature_[K]</th>\n",
       "      <th>Process_temperature_[K]</th>\n",
       "      <th>Rotational_speed_[rpm]</th>\n",
       "      <th>Torque_[Nm]</th>\n",
       "      <th>Tool_wear_[min]</th>\n",
       "      <th>Target</th>\n",
       "      <th>Failure_Type</th>\n",
       "    </tr>\n",
       "    <tr>\n",
       "      <th>UDI</th>\n",
       "      <th>Product_ID</th>\n",
       "      <th></th>\n",
       "      <th></th>\n",
       "      <th></th>\n",
       "      <th></th>\n",
       "      <th></th>\n",
       "      <th></th>\n",
       "      <th></th>\n",
       "      <th></th>\n",
       "    </tr>\n",
       "  </thead>\n",
       "  <tbody>\n",
       "    <tr>\n",
       "      <th>1</th>\n",
       "      <th>M14860</th>\n",
       "      <td>M</td>\n",
       "      <td>298.1</td>\n",
       "      <td>308.6</td>\n",
       "      <td>1551</td>\n",
       "      <td>42.8</td>\n",
       "      <td>0</td>\n",
       "      <td>0</td>\n",
       "      <td>No Failure</td>\n",
       "    </tr>\n",
       "    <tr>\n",
       "      <th>2</th>\n",
       "      <th>L47181</th>\n",
       "      <td>L</td>\n",
       "      <td>298.2</td>\n",
       "      <td>308.7</td>\n",
       "      <td>1408</td>\n",
       "      <td>46.3</td>\n",
       "      <td>3</td>\n",
       "      <td>0</td>\n",
       "      <td>No Failure</td>\n",
       "    </tr>\n",
       "    <tr>\n",
       "      <th>3</th>\n",
       "      <th>L47182</th>\n",
       "      <td>L</td>\n",
       "      <td>298.1</td>\n",
       "      <td>308.5</td>\n",
       "      <td>1498</td>\n",
       "      <td>49.4</td>\n",
       "      <td>5</td>\n",
       "      <td>0</td>\n",
       "      <td>No Failure</td>\n",
       "    </tr>\n",
       "    <tr>\n",
       "      <th>4</th>\n",
       "      <th>L47183</th>\n",
       "      <td>L</td>\n",
       "      <td>298.2</td>\n",
       "      <td>308.6</td>\n",
       "      <td>1433</td>\n",
       "      <td>39.5</td>\n",
       "      <td>7</td>\n",
       "      <td>0</td>\n",
       "      <td>No Failure</td>\n",
       "    </tr>\n",
       "    <tr>\n",
       "      <th>5</th>\n",
       "      <th>L47184</th>\n",
       "      <td>L</td>\n",
       "      <td>298.2</td>\n",
       "      <td>308.7</td>\n",
       "      <td>1408</td>\n",
       "      <td>40.0</td>\n",
       "      <td>9</td>\n",
       "      <td>0</td>\n",
       "      <td>No Failure</td>\n",
       "    </tr>\n",
       "  </tbody>\n",
       "</table>\n",
       "</div>"
      ],
      "text/plain": [
       "               Type  Air_temperature_[K]  Process_temperature_[K]  \\\n",
       "UDI Product_ID                                                      \n",
       "1   M14860        M                298.1                    308.6   \n",
       "2   L47181        L                298.2                    308.7   \n",
       "3   L47182        L                298.1                    308.5   \n",
       "4   L47183        L                298.2                    308.6   \n",
       "5   L47184        L                298.2                    308.7   \n",
       "\n",
       "                Rotational_speed_[rpm]  Torque_[Nm]  Tool_wear_[min]  Target  \\\n",
       "UDI Product_ID                                                                 \n",
       "1   M14860                        1551         42.8                0       0   \n",
       "2   L47181                        1408         46.3                3       0   \n",
       "3   L47182                        1498         49.4                5       0   \n",
       "4   L47183                        1433         39.5                7       0   \n",
       "5   L47184                        1408         40.0                9       0   \n",
       "\n",
       "               Failure_Type  \n",
       "UDI Product_ID               \n",
       "1   M14860       No Failure  \n",
       "2   L47181       No Failure  \n",
       "3   L47182       No Failure  \n",
       "4   L47183       No Failure  \n",
       "5   L47184       No Failure  "
      ]
     },
     "execution_count": 2,
     "metadata": {},
     "output_type": "execute_result"
    }
   ],
   "source": [
    "# Leer .csv y creo un DF\n",
    "df = pd.read_csv(datos_url, delimiter=\",\", index_col= [\"UDI\", \"Product_ID\"])\n",
    "df.head()"
   ]
  },
  {
   "cell_type": "markdown",
   "metadata": {},
   "source": [
    "# Over-sampling variables target"
   ]
  },
  {
   "cell_type": "markdown",
   "metadata": {},
   "source": [
    "## Variable Target"
   ]
  },
  {
   "cell_type": "code",
   "execution_count": 4,
   "metadata": {},
   "outputs": [
    {
     "name": "stdout",
     "output_type": "stream",
     "text": [
      "<class 'pandas.core.frame.DataFrame'>\n",
      "RangeIndex: 14491 entries, 0 to 14490\n",
      "Data columns (total 5 columns):\n",
      " #   Column                   Non-Null Count  Dtype  \n",
      "---  ------                   --------------  -----  \n",
      " 0   Air_temperature_[K]      14491 non-null  float64\n",
      " 1   Process_temperature_[K]  14491 non-null  float64\n",
      " 2   Rotational_speed_[rpm]   14491 non-null  int64  \n",
      " 3   Torque_[Nm]              14491 non-null  float64\n",
      " 4   Tool_wear_[min]          14491 non-null  int64  \n",
      "dtypes: float64(3), int64(2)\n",
      "memory usage: 566.2 KB\n"
     ]
    }
   ],
   "source": [
    "# Preparamos variable Target para entrenar los algoritmos\n",
    "X= df.drop([\"Target\",\"Type\",\"Failure_Type\"], axis=1) \n",
    "y= df[\"Target\"]\n",
    "# instantiating the random over sampler \n",
    "ros = RandomOverSampler(sampling_strategy=0.5)\n",
    "# resampling X, y\n",
    "X_ros_Target, y_ros_Target = ros.fit_resample(X, y)\n",
    "# new class distribution \n",
    "y_ros_Target.value_counts()\n",
    "X_ros_Target.info()"
   ]
  },
  {
   "cell_type": "markdown",
   "metadata": {},
   "source": [
    "## Variable Failure_Type"
   ]
  },
  {
   "cell_type": "code",
   "execution_count": 5,
   "metadata": {},
   "outputs": [
    {
     "name": "stdout",
     "output_type": "stream",
     "text": [
      "<class 'pandas.core.frame.DataFrame'>\n",
      "RangeIndex: 14652 entries, 0 to 14651\n",
      "Data columns (total 6 columns):\n",
      " #   Column                   Non-Null Count  Dtype  \n",
      "---  ------                   --------------  -----  \n",
      " 0   Air_temperature_[K]      14652 non-null  float64\n",
      " 1   Process_temperature_[K]  14652 non-null  float64\n",
      " 2   Rotational_speed_[rpm]   14652 non-null  int64  \n",
      " 3   Torque_[Nm]              14652 non-null  float64\n",
      " 4   Tool_wear_[min]          14652 non-null  int64  \n",
      " 5   Target                   14652 non-null  int64  \n",
      "dtypes: float64(3), int64(3)\n",
      "memory usage: 686.9 KB\n"
     ]
    }
   ],
   "source": [
    "# Preparamos variable Target para entrenar los algoritmos.\n",
    "X= df.drop([\"Type\",\"Failure_Type\"], axis=1) \n",
    "y= df[\"Failure_Type\"]\n",
    "# instantiating the random over sampler \n",
    "ros = RandomOverSampler(sampling_strategy={\"Heat Dissipation Failure\":1000,\"Random Failures\":1000,\"Tool Wear Failure\":1000,\n",
    "                                            \"Overstrain Failure\":1000, \"Power Failure\":1000})\n",
    "# resampling X, y\n",
    "X_ros_failure, y_ros_failure = ros.fit_resample(X, y)\n",
    "y_ros_failure.value_counts()\n",
    "X_ros_failure.info()"
   ]
  },
  {
   "cell_type": "markdown",
   "metadata": {},
   "source": [
    "# TREE CLASIFIER"
   ]
  },
  {
   "cell_type": "code",
   "execution_count": 3,
   "metadata": {},
   "outputs": [],
   "source": [
    "                        ###############################################\n",
    "                        ## Implementacion de Decision Tree Clasifier ##\n",
    "                        ###############################################"
   ]
  },
  {
   "cell_type": "markdown",
   "metadata": {},
   "source": [
    "## Variable Target"
   ]
  },
  {
   "cell_type": "markdown",
   "metadata": {},
   "source": [
    "Deberia modificar la variable Type con valores STR para utilizarlo dentro del TREE?"
   ]
  },
  {
   "cell_type": "code",
   "execution_count": 29,
   "metadata": {},
   "outputs": [
    {
     "name": "stdout",
     "output_type": "stream",
     "text": [
      "% de aciertos sobre el set de entrenamiento: 0.9690842591953627\n",
      "% de aciertos sobre el set de evaluación: 0.9714\n"
     ]
    },
    {
     "data": {
      "image/png": "[encoded data removed]",
      "text/plain": [
       "<Figure size 432x288 with 1 Axes>"
      ]
     },
     "metadata": {
      "needs_background": "light"
     },
     "output_type": "display_data"
    },
    {
     "name": "stdout",
     "output_type": "stream",
     "text": [
      "Auc para nuestro modelo es 0.9678068510068978\n",
      "Auc para nuestro modelo es 0.9681201583228984\n"
     ]
    },
    {
     "data": {
      "image/png": "[encoded data removed]",
      "text/plain": [
       "<Figure size 1080x1080 with 1 Axes>"
      ]
     },
     "metadata": {
      "needs_background": "light"
     },
     "output_type": "display_data"
    }
   ],
   "source": [
    "                        #####################\n",
    "                        ## Variable Target ##\n",
    "                        #####################\n",
    "                        \n",
    "X_target_test= df.drop([\"Target\",\"Type\",\"Failure_Type\"], axis=1) \n",
    "y_target_test= df[\"Target\"]\n",
    "# Creamos el modelo\n",
    "tree = DecisionTreeClassifier(max_depth=8, random_state = 42)\n",
    "# Entrenamos el algoritmo\n",
    "tree.fit(X_ros_Target, y_ros_Target)\n",
    "# Prediccion en Train\n",
    "y_train_pred = tree.predict(X_ros_Target)\n",
    "# Prediccion en Test\n",
    "y_test_pred = tree.predict(X_target_test)\n",
    "#Calculo el accuracy en Train\n",
    "train_accuracy = accuracy_score(y_ros_Target, y_train_pred)\n",
    "#Calculo el accuracy en Test\n",
    "test_accuracy = accuracy_score(y_target_test, y_test_pred)\n",
    "print('% de aciertos sobre el set de entrenamiento:', train_accuracy)\n",
    "print('% de aciertos sobre el set de evaluación:',test_accuracy)\n",
    "# Graficamos ROC\n",
    "y_pred_proba= tree.predict_proba(X_target_test)[::,1]\n",
    "fpr, tpr, _= metrics.roc_curve(y_target_test,  y_pred_proba)\n",
    "plt.plot(fpr,tpr)\n",
    "plt.ylabel('True Positive Rate')\n",
    "plt.xlabel('False Positive Rate')\n",
    "plt.show()\n",
    "# Calculamos AUC\n",
    "# TRAIN AUC\n",
    "auc= roc_auc_score(y_ros_Target, y_train_pred)\n",
    "# TEST AUC\n",
    "auc_2= roc_auc_score(y_target_test, y_test_pred)\n",
    "print(\"TRAIN Auc para nuestro modelo es {}\". format(auc))\n",
    "print(\"TEST Auc para nuestro modelo es {}\". format(auc_2))\n",
    "# Peso de las variables\n",
    "plt.figure(figsize=(15,15))\n",
    "importances = tree.feature_importances_\n",
    "columns = X_target_test.columns\n",
    "sns.barplot(columns, importances)\n",
    "plt.title('Importancia de cada Feature')\n",
    "plt.show()"
   ]
  },
  {
   "cell_type": "markdown",
   "metadata": {},
   "source": [
    "## Variable Failure_Type"
   ]
  },
  {
   "cell_type": "code",
   "execution_count": 48,
   "metadata": {},
   "outputs": [
    {
     "name": "stdout",
     "output_type": "stream",
     "text": [
      "% de aciertos sobre el set de entrenamiento: 0.9827327327327328\n",
      "% de aciertos sobre el set de evaluación: 0.9976\n"
     ]
    },
    {
     "data": {
      "text/plain": [
       "'\\n#ROC y AUC\\nfpr= dict()\\ntpr= dict()\\nroc_auc= dict()\\nnum_clases= model.n_classes_\\nfor i in range(num_clases):\\n    fpr[i], tpr[i], _= roc_curve(y_test_pred[i], model.predict_proba(X_failure_test)[:,i])\\n    print(\"OK\")\\n    roc_auc[i] = auc(fpr[i], tpr[i])\\n# Graficamos ROC\\n# Plot of a ROC curve for a specific class\\nfor i in range(n_classes):\\n    plt.figure()\\n    plt.plot(fpr[i], tpr[i], label=\\'ROC curve (area = %0.2f)\\' % roc_auc[i])\\n    plt.plot([0, 1], [0, 1], \\'k--\\')\\n    plt.xlim([0.0, 1.0])\\n    plt.ylim([0.0, 1.05])\\n    plt.xlabel(\\'False Positive Rate\\')\\n    plt.ylabel(\\'True Positive Rate\\')\\n    plt.title(\\'Receiver operating characteristic example\\')\\n    plt.legend(loc=\"lower right\")\\n    plt.show()\\n'"
      ]
     },
     "execution_count": 48,
     "metadata": {},
     "output_type": "execute_result"
    }
   ],
   "source": [
    "                        ###########################\n",
    "                        ## Variable Failure_Type ##\n",
    "                        ###########################\n",
    "                        \n",
    "X_failure_test= df.drop([\"Type\",\"Failure_Type\"], axis=1) \n",
    "y_failure_test= df[\"Failure_Type\"]\n",
    "#Creamos el modelo\n",
    "tree_2 = DecisionTreeClassifier(max_depth=8, random_state = 42)\n",
    "# UNO CONTRA EL RESTO\n",
    "model = OneVsRestClassifier(tree_2)\n",
    "#Entrenamos el algoritmo\n",
    "model.fit(X_ros_failure, y_ros_failure)\n",
    "# Prediccion en Train\n",
    "y_train_pred = model.predict(X_ros_failure)\n",
    "# Prediccion en Test\n",
    "y_test_pred = model.predict(X_failure_test)\n",
    "#Calculo el accuracy en Train\n",
    "train_accuracy = accuracy_score(y_ros_failure, y_train_pred)\n",
    "\n",
    "#Calculo el accuracy en Test\n",
    "test_accuracy = accuracy_score(y_failure_test, y_test_pred)\n",
    "print('% de aciertos sobre el set de entrenamiento:', train_accuracy)\n",
    "print('% de aciertos sobre el set de evaluación:',test_accuracy)\n",
    "\n",
    "\"\"\"\n",
    "#ROC y AUC\n",
    "fpr= dict()\n",
    "tpr= dict()\n",
    "roc_auc= dict()\n",
    "num_clases= model.n_classes_\n",
    "for i in range(num_clases):\n",
    "    fpr[i], tpr[i], _= roc_curve(y_test_pred[i], model.predict_proba(X_failure_test)[:,i])\n",
    "    print(\"OK\")\n",
    "    roc_auc[i] = auc(fpr[i], tpr[i])\n",
    "# Graficamos ROC\n",
    "# Plot of a ROC curve for a specific class\n",
    "for i in range(n_classes):\n",
    "    plt.figure()\n",
    "    plt.plot(fpr[i], tpr[i], label='ROC curve (area = %0.2f)' % roc_auc[i])\n",
    "    plt.plot([0, 1], [0, 1], 'k--')\n",
    "    plt.xlim([0.0, 1.0])\n",
    "    plt.ylim([0.0, 1.05])\n",
    "    plt.xlabel('False Positive Rate')\n",
    "    plt.ylabel('True Positive Rate')\n",
    "    plt.title('Receiver operating characteristic example')\n",
    "    plt.legend(loc=\"lower right\")\n",
    "    plt.show()\n",
    "\"\"\""
   ]
  },
  {
   "cell_type": "markdown",
   "metadata": {},
   "source": [
    "# RANDOM FOREST"
   ]
  },
  {
   "cell_type": "markdown",
   "metadata": {},
   "source": [
    "## Variable Target"
   ]
  },
  {
   "cell_type": "code",
   "execution_count": 47,
   "metadata": {},
   "outputs": [
    {
     "name": "stdout",
     "output_type": "stream",
     "text": [
      "% de aciertos sobre el set de evaluación: 1.0\n",
      "% de aciertos sobre el set de evaluación: 1.0\n"
     ]
    },
    {
     "data": {
      "image/png": "[encoded data removed]",
      "text/plain": [
       "<Figure size 432x288 with 1 Axes>"
      ]
     },
     "metadata": {
      "needs_background": "light"
     },
     "output_type": "display_data"
    },
    {
     "name": "stdout",
     "output_type": "stream",
     "text": [
      "TRAIN Auc para nuestro modelo es 1.0\n",
      "TEST Auc para nuestro modelo es 1.0\n"
     ]
    }
   ],
   "source": [
    "                    #####################################\n",
    "                    ## Implementacion de Random Forest ##\n",
    "                    #####################################\n",
    "\n",
    "\n",
    "# Variable Target\n",
    "\n",
    "# Creamos un random forest!\n",
    "model = RandomForestClassifier(random_state=11, n_estimators=200,\n",
    "                               class_weight=\"balanced\", max_features=\"log2\")\n",
    "model.fit(X_ros_Target, y_ros_Target)\n",
    "# Prediccion en Train (OVERSAMPLING)\n",
    "y_train_pred = model.predict(X_ros_Target)\n",
    "train_accuracy = accuracy_score(y_ros_Target, y_train_pred)\n",
    "print('% de aciertos sobre el set de evaluación:',train_accuracy)\n",
    "\n",
    "#Prediccion en Test (ORIGINAL)\n",
    "y_test_pred = model.predict(X_target_test) \n",
    "test_accuracy = accuracy_score(y_target_test, y_test_pred)\n",
    "print('% de aciertos sobre el set de evaluación:',test_accuracy)\n",
    "\n",
    "# Graficamos ROC\n",
    "y_pred_proba= model.predict_proba(X_target_test)[::,1]\n",
    "fpr, tpr, _= metrics.roc_curve(y_target_test,  y_pred_proba)\n",
    "plt.plot(fpr,tpr)\n",
    "plt.ylabel('True Positive Rate')\n",
    "plt.xlabel('False Positive Rate')\n",
    "plt.show()\n",
    "# Calculamos AUC\n",
    "# TRAIN AUC\n",
    "auc= roc_auc_score(y_ros_Target, y_train_pred)\n",
    "# TEST AUC\n",
    "auc_2= roc_auc_score(y_target_test, y_test_pred)\n",
    "print(\"TRAIN Auc para nuestro modelo es {}\". format(auc))\n",
    "print(\"TEST Auc para nuestro modelo es {}\". format(auc_2))"
   ]
  },
  {
   "cell_type": "markdown",
   "metadata": {},
   "source": [
    "## Variable Failure_Type"
   ]
  },
  {
   "cell_type": "code",
   "execution_count": 14,
   "metadata": {},
   "outputs": [
    {
     "name": "stdout",
     "output_type": "stream",
     "text": [
      "% de aciertos sobre el set de evaluación: 0.9978159978159978\n",
      "% de aciertos sobre el set de evaluación: 0.9968\n"
     ]
    }
   ],
   "source": [
    "# Variable Failure_Type\n",
    "# Creamos un random forest!\n",
    "rf= RandomForestClassifier(random_state=11,\n",
    "                               n_estimators=200,\n",
    "                               class_weight=\"balanced\", \n",
    "                               max_features=\"log2\",\n",
    "                               max_depth=8)\n",
    "# UNO VS EL RESTO\n",
    "model= OneVsRestClassifier(rf)\n",
    "model.fit(X_ros_failure, y_ros_failure)\n",
    "\n",
    "# Prediccion en Train\n",
    "y_train_pred= model.predict(X_ros_failure) \n",
    "train_accuracy= accuracy_score(y_ros_failure, y_train_pred)\n",
    "\n",
    "print('% de aciertos sobre el set de evaluación:',train_accuracy)\n",
    "# Prediccion en Test\n",
    "y_test_pred = model.predict(X_failure_test) \n",
    "test_accuracy = accuracy_score(y_failure_test, y_test_pred)\n",
    "print('% de aciertos sobre el set de evaluación:',test_accuracy)"
   ]
  }
 ],
 "metadata": {
  "interpreter": {
   "hash": "ed4a05ed57294198263d96b115eabb4afadb9cdb8c49ed782e310bec2e16ae86"
  },
  "kernelspec": {
   "display_name": "Python 3.8.5 64-bit ('base': conda)",
   "language": "python",
   "name": "python3"
  },
  "language_info": {
   "codemirror_mode": {
    "name": "ipython",
    "version": 3
   },
   "file_extension": ".py",
   "mimetype": "text/x-python",
   "name": "python",
   "nbconvert_exporter": "python",
   "pygments_lexer": "ipython3",
   "version": "3.8.5"
  },
  "orig_nbformat": 4
 },
 "nbformat": 4,
 "nbformat_minor": 2
}
