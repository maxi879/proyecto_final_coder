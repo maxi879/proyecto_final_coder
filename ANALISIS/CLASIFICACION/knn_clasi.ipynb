{
 "cells": [
  {
   "cell_type": "markdown",
   "metadata": {},
   "source": [
    "# Vecinos Cercanos"
   ]
  },
  {
   "cell_type": "code",
   "execution_count": 2,
   "metadata": {},
   "outputs": [],
   "source": [
    "# Not basics\n",
    "from sklearn.metrics import roc_curve\n",
    "from sklearn.model_selection import train_test_split\n",
    "from sklearn.neighbors import KNeighborsClassifier\n",
    "from sklearn.multiclass import OneVsRestClassifier\n",
    "from sklearn import metrics\n",
    "from imblearn.over_sampling import  RandomOverSampler\n",
    "from sklearn.preprocessing import label_binarize\n",
    "# Basics\n",
    "import warnings\n",
    "warnings.filterwarnings('ignore')\n",
    "import pandas as pd\n",
    "import numpy as np\n",
    "import matplotlib as mpl\n",
    "import matplotlib.pyplot as plt\n",
    "import seaborn as sns\n",
    "datos_url= \"C://Users/maxib/Source/repos/proyecto_final_coder/datos/Base_predictive_maintenance.csv\""
   ]
  },
  {
   "cell_type": "code",
   "execution_count": 3,
   "metadata": {},
   "outputs": [
    {
     "data": {
      "text/html": [
       "<div>\n",
       "<style scoped>\n",
       "    .dataframe tbody tr th:only-of-type {\n",
       "        vertical-align: middle;\n",
       "    }\n",
       "\n",
       "    .dataframe tbody tr th {\n",
       "        vertical-align: top;\n",
       "    }\n",
       "\n",
       "    .dataframe thead th {\n",
       "        text-align: right;\n",
       "    }\n",
       "</style>\n",
       "<table border=\"1\" class=\"dataframe\">\n",
       "  <thead>\n",
       "    <tr style=\"text-align: right;\">\n",
       "      <th></th>\n",
       "      <th></th>\n",
       "      <th>Type</th>\n",
       "      <th>Air_temperature_[K]</th>\n",
       "      <th>Process_temperature_[K]</th>\n",
       "      <th>Rotational_speed_[rpm]</th>\n",
       "      <th>Torque_[Nm]</th>\n",
       "      <th>Tool_wear_[min]</th>\n",
       "      <th>Target</th>\n",
       "      <th>Failure_Type</th>\n",
       "    </tr>\n",
       "    <tr>\n",
       "      <th>UDI</th>\n",
       "      <th>Product_ID</th>\n",
       "      <th></th>\n",
       "      <th></th>\n",
       "      <th></th>\n",
       "      <th></th>\n",
       "      <th></th>\n",
       "      <th></th>\n",
       "      <th></th>\n",
       "      <th></th>\n",
       "    </tr>\n",
       "  </thead>\n",
       "  <tbody>\n",
       "    <tr>\n",
       "      <th>1</th>\n",
       "      <th>M14860</th>\n",
       "      <td>M</td>\n",
       "      <td>298.1</td>\n",
       "      <td>308.6</td>\n",
       "      <td>1551</td>\n",
       "      <td>42.8</td>\n",
       "      <td>0</td>\n",
       "      <td>0</td>\n",
       "      <td>No Failure</td>\n",
       "    </tr>\n",
       "    <tr>\n",
       "      <th>2</th>\n",
       "      <th>L47181</th>\n",
       "      <td>L</td>\n",
       "      <td>298.2</td>\n",
       "      <td>308.7</td>\n",
       "      <td>1408</td>\n",
       "      <td>46.3</td>\n",
       "      <td>3</td>\n",
       "      <td>0</td>\n",
       "      <td>No Failure</td>\n",
       "    </tr>\n",
       "    <tr>\n",
       "      <th>3</th>\n",
       "      <th>L47182</th>\n",
       "      <td>L</td>\n",
       "      <td>298.1</td>\n",
       "      <td>308.5</td>\n",
       "      <td>1498</td>\n",
       "      <td>49.4</td>\n",
       "      <td>5</td>\n",
       "      <td>0</td>\n",
       "      <td>No Failure</td>\n",
       "    </tr>\n",
       "    <tr>\n",
       "      <th>4</th>\n",
       "      <th>L47183</th>\n",
       "      <td>L</td>\n",
       "      <td>298.2</td>\n",
       "      <td>308.6</td>\n",
       "      <td>1433</td>\n",
       "      <td>39.5</td>\n",
       "      <td>7</td>\n",
       "      <td>0</td>\n",
       "      <td>No Failure</td>\n",
       "    </tr>\n",
       "    <tr>\n",
       "      <th>5</th>\n",
       "      <th>L47184</th>\n",
       "      <td>L</td>\n",
       "      <td>298.2</td>\n",
       "      <td>308.7</td>\n",
       "      <td>1408</td>\n",
       "      <td>40.0</td>\n",
       "      <td>9</td>\n",
       "      <td>0</td>\n",
       "      <td>No Failure</td>\n",
       "    </tr>\n",
       "  </tbody>\n",
       "</table>\n",
       "</div>"
      ],
      "text/plain": [
       "               Type  Air_temperature_[K]  Process_temperature_[K]  \\\n",
       "UDI Product_ID                                                      \n",
       "1   M14860        M                298.1                    308.6   \n",
       "2   L47181        L                298.2                    308.7   \n",
       "3   L47182        L                298.1                    308.5   \n",
       "4   L47183        L                298.2                    308.6   \n",
       "5   L47184        L                298.2                    308.7   \n",
       "\n",
       "                Rotational_speed_[rpm]  Torque_[Nm]  Tool_wear_[min]  Target  \\\n",
       "UDI Product_ID                                                                 \n",
       "1   M14860                        1551         42.8                0       0   \n",
       "2   L47181                        1408         46.3                3       0   \n",
       "3   L47182                        1498         49.4                5       0   \n",
       "4   L47183                        1433         39.5                7       0   \n",
       "5   L47184                        1408         40.0                9       0   \n",
       "\n",
       "               Failure_Type  \n",
       "UDI Product_ID               \n",
       "1   M14860       No Failure  \n",
       "2   L47181       No Failure  \n",
       "3   L47182       No Failure  \n",
       "4   L47183       No Failure  \n",
       "5   L47184       No Failure  "
      ]
     },
     "execution_count": 3,
     "metadata": {},
     "output_type": "execute_result"
    }
   ],
   "source": [
    "# Leer .csv y creo un DF\n",
    "df = pd.read_csv(datos_url, delimiter=\",\", index_col= [\"UDI\", \"Product_ID\"])\n",
    "df.head()"
   ]
  },
  {
   "cell_type": "markdown",
   "metadata": {},
   "source": [
    "# Variable Target"
   ]
  },
  {
   "cell_type": "markdown",
   "metadata": {},
   "source": [
    "### Over sampling"
   ]
  },
  {
   "cell_type": "code",
   "execution_count": 4,
   "metadata": {},
   "outputs": [
    {
     "name": "stdout",
     "output_type": "stream",
     "text": [
      "<class 'pandas.core.frame.DataFrame'>\n",
      "RangeIndex: 14491 entries, 0 to 14490\n",
      "Data columns (total 5 columns):\n",
      " #   Column                   Non-Null Count  Dtype  \n",
      "---  ------                   --------------  -----  \n",
      " 0   Air_temperature_[K]      14491 non-null  float64\n",
      " 1   Process_temperature_[K]  14491 non-null  float64\n",
      " 2   Rotational_speed_[rpm]   14491 non-null  int64  \n",
      " 3   Torque_[Nm]              14491 non-null  float64\n",
      " 4   Tool_wear_[min]          14491 non-null  int64  \n",
      "dtypes: float64(3), int64(2)\n",
      "memory usage: 566.2 KB\n"
     ]
    }
   ],
   "source": [
    "# Preparamos variable Target para entrenar los algoritmos\n",
    "X= df.drop([\"Target\",\"Type\",\"Failure_Type\"], axis=1) \n",
    "y= df[\"Target\"]\n",
    "# instantiating the random over sampler \n",
    "ros = RandomOverSampler(sampling_strategy=0.5)\n",
    "# resampling X, y\n",
    "X_ros_Target, y_ros_Target = ros.fit_resample(X, y)\n",
    "# new class distribution \n",
    "y_ros_Target.value_counts()\n",
    "X_ros_Target.info()"
   ]
  },
  {
   "cell_type": "markdown",
   "metadata": {},
   "source": [
    "## Vecinos cercanos variable binaria"
   ]
  },
  {
   "cell_type": "code",
   "execution_count": 5,
   "metadata": {},
   "outputs": [
    {
     "name": "stdout",
     "output_type": "stream",
     "text": [
      "Datos del testeo con Train Data\n",
      "% de aciertos sobre el set de evaluación: 0.9875094886481264\n",
      "[[9480  181]\n",
      " [   0 4830]]\n"
     ]
    },
    {
     "data": {
      "image/png": "[encoded data removed]",
      "text/plain": [
       "<Figure size 432x288 with 2 Axes>"
      ]
     },
     "metadata": {
      "needs_background": "light"
     },
     "output_type": "display_data"
    },
    {
     "data": {
      "image/png": "[encoded data removed]",
      "text/plain": [
       "<Figure size 432x288 with 1 Axes>"
      ]
     },
     "metadata": {
      "needs_background": "light"
     },
     "output_type": "display_data"
    },
    {
     "name": "stdout",
     "output_type": "stream",
     "text": [
      "Recall Score del classificador Train: 1.0\n",
      "F1 Score del classificador Train: 0.9816075602072961\n",
      "% de aciertos sobre el set de evaluación: 0.9819\n"
     ]
    },
    {
     "data": {
      "image/png": "[encoded data removed]",
      "text/plain": [
       "<Figure size 432x288 with 1 Axes>"
      ]
     },
     "metadata": {
      "needs_background": "light"
     },
     "output_type": "display_data"
    },
    {
     "name": "stdout",
     "output_type": "stream",
     "text": [
      "[[9480  181]\n",
      " [   0  339]]\n"
     ]
    },
    {
     "data": {
      "image/png": "[encoded data removed]",
      "text/plain": [
       "<Figure size 432x288 with 2 Axes>"
      ]
     },
     "metadata": {
      "needs_background": "light"
     },
     "output_type": "display_data"
    },
    {
     "data": {
      "image/png": "[encoded data removed]",
      "text/plain": [
       "<Figure size 432x288 with 1 Axes>"
      ]
     },
     "metadata": {
      "needs_background": "light"
     },
     "output_type": "display_data"
    },
    {
     "name": "stdout",
     "output_type": "stream",
     "text": [
      "Recall Score del classificador Train: 1.0\n",
      "F1 Score del classificador Train: 0.7892898719441211\n"
     ]
    }
   ],
   "source": [
    "# Implementacion y entrenamientos\n",
    "knn = KNeighborsClassifier(n_neighbors=3)\n",
    "knn.fit(X_ros_Target, y_ros_Target)\n",
    "print(\"Datos del testeo con Train Data\")\n",
    "# Calculamos Datos Train\n",
    "# ACCURACY\n",
    "## Train\n",
    "y_train_pred = knn.predict(X_ros_Target)\n",
    "train_accuracy = metrics.accuracy_score(y_ros_Target, y_train_pred)\n",
    "print('% de aciertos sobre el set de evaluación:',train_accuracy)\n",
    "# Matriz de Confusión train\n",
    "print(metrics.confusion_matrix(y_ros_Target, y_train_pred))\n",
    "# Ploteamos la Matriz train\n",
    "metrics.plot_confusion_matrix(knn, X_ros_Target, y_ros_Target)\n",
    "plt.show()\n",
    "# Graficamos ROC Train\n",
    "y_pred_proba= knn.predict_proba(X_ros_Target)[::,1]\n",
    "fpr, tpr, _= metrics.roc_curve(y_ros_Target,  y_pred_proba)\n",
    "plt.plot(fpr,tpr)\n",
    "plt.title(\"ROC FOR TRAIN DATA\")\n",
    "plt.ylabel('True Positive Rate')\n",
    "plt.xlabel('False Positive Rate')\n",
    "plt.show()\n",
    "# Recall Train\n",
    "print(f\"Recall Score del classificador Train: {metrics.recall_score(y_ros_Target, y_train_pred)}\")\n",
    "# F1 Score Train\n",
    "print(f\"F1 Score del classificador Train: {metrics.f1_score(y_ros_Target, y_train_pred)}\")\n",
    "\n",
    "# Calculamos datos de Test\n",
    "# ACCURACY\n",
    "## Test\n",
    "y_test_pred = knn.predict(X)\n",
    "test_accuracy = metrics.accuracy_score(y, y_test_pred)\n",
    "print('% de aciertos sobre el set de evaluación:',test_accuracy)\n",
    "# Graficamos ROC Test\n",
    "y_pred_proba= knn.predict_proba(X)[::,1]\n",
    "fpr, tpr, _= metrics.roc_curve(y,  y_pred_proba)\n",
    "plt.plot(fpr,tpr)\n",
    "plt.title(\"ROC FOR TEST DATA\")\n",
    "plt.ylabel('True Positive Rate')\n",
    "plt.xlabel('False Positive Rate')\n",
    "plt.show()\n",
    "# Matriz de Confusión Test\n",
    "print(metrics.confusion_matrix(y, y_test_pred))\n",
    "# Ploteamos la Matriz train\n",
    "metrics.plot_confusion_matrix(knn, X, y)\n",
    "plt.show()\n",
    "# Graficamos ROC Train\n",
    "y_pred_proba= knn.predict_proba(X)[::,1]\n",
    "fpr, tpr, _= metrics.roc_curve(y,  y_pred_proba)\n",
    "plt.plot(fpr,tpr)\n",
    "plt.title(\"ROC FOR TRAIN DATA\")\n",
    "plt.ylabel('True Positive Rate')\n",
    "plt.xlabel('False Positive Rate')\n",
    "plt.show()\n",
    "# Recall Train\n",
    "print(f\"Recall Score del classificador Train: {metrics.recall_score(y, y_test_pred)}\")\n",
    "# F1 Score Train\n",
    "print(f\"F1 Score del classificador Train: {metrics.f1_score(y, y_test_pred)}\")\n",
    "\n"
   ]
  },
  {
   "cell_type": "markdown",
   "metadata": {},
   "source": [
    "# Vairable Failure Type"
   ]
  },
  {
   "cell_type": "markdown",
   "metadata": {},
   "source": [
    "## Oversampling"
   ]
  },
  {
   "cell_type": "code",
   "execution_count": 6,
   "metadata": {},
   "outputs": [
    {
     "name": "stdout",
     "output_type": "stream",
     "text": [
      "<class 'pandas.core.frame.DataFrame'>\n",
      "RangeIndex: 14652 entries, 0 to 14651\n",
      "Data columns (total 5 columns):\n",
      " #   Column                   Non-Null Count  Dtype  \n",
      "---  ------                   --------------  -----  \n",
      " 0   Air_temperature_[K]      14652 non-null  float64\n",
      " 1   Process_temperature_[K]  14652 non-null  float64\n",
      " 2   Rotational_speed_[rpm]   14652 non-null  int64  \n",
      " 3   Torque_[Nm]              14652 non-null  float64\n",
      " 4   Tool_wear_[min]          14652 non-null  int64  \n",
      "dtypes: float64(3), int64(2)\n",
      "memory usage: 572.5 KB\n"
     ]
    }
   ],
   "source": [
    "# Preparamos variable Target para entrenar los algoritmos.\n",
    "X= df.drop([\"Type\",\"Target\",\"Failure_Type\"], axis=1) \n",
    "y= df[\"Failure_Type\"]\n",
    "# instantiating the random over sampler \n",
    "ros = RandomOverSampler(sampling_strategy={\"Heat Dissipation Failure\":1000,\"Random Failures\":1000,\"Tool Wear Failure\":1000,\n",
    "                                            \"Overstrain Failure\":1000, \"Power Failure\":1000})\n",
    "# resampling X, y\n",
    "X_ros_failure, y_ros_failure = ros.fit_resample(X, y)\n",
    "y_ros_failure.value_counts()\n",
    "X_ros_failure.info()"
   ]
  }
 ],
 "metadata": {
  "interpreter": {
   "hash": "ed4a05ed57294198263d96b115eabb4afadb9cdb8c49ed782e310bec2e16ae86"
  },
  "kernelspec": {
   "display_name": "Python 3.8.5 64-bit ('base': conda)",
   "language": "python",
   "name": "python3"
  },
  "language_info": {
   "codemirror_mode": {
    "name": "ipython",
    "version": 3
   },
   "file_extension": ".py",
   "mimetype": "text/x-python",
   "name": "python",
   "nbconvert_exporter": "python",
   "pygments_lexer": "ipython3",
   "version": "3.8.5"
  },
  "orig_nbformat": 4
 },
 "nbformat": 4,
 "nbformat_minor": 2
}
