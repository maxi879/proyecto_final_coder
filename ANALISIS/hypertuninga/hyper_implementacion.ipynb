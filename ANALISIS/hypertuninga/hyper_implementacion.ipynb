{
 "cells": [
  {
   "cell_type": "code",
   "execution_count": 26,
   "metadata": {},
   "outputs": [],
   "source": [
    "# Importamos librerías.\n",
    "import pandas as pd\n",
    "import seaborn as sns\n",
    "import matplotlib.pyplot as plt\n",
    "import numpy as np\n",
    "import itertools\n",
    "# sklearn.\n",
    "from sklearn import metrics\n",
    "from sklearn.metrics import make_scorer\n",
    "from sklearn.metrics import accuracy_score\n",
    "from sklearn.metrics import confusion_matrix\n",
    "from sklearn.metrics import plot_confusion_matrix\n",
    "from sklearn.metrics import recall_score\n",
    "from sklearn.metrics import f1_score\n",
    "from sklearn.metrics import precision_recall_curve\n",
    "from sklearn.metrics import average_precision_score\n",
    "from sklearn.metrics import PrecisionRecallDisplay\n",
    "from sklearn.preprocessing import label_binarize\n",
    "# Hypertuning utilizando grid search.\n",
    "from sklearn.model_selection import GridSearchCV\n",
    "from sklearn.multiclass import OneVsRestClassifier\n",
    "from sklearn.ensemble import RandomForestClassifier\n",
    "from sklearn.neighbors import KNeighborsClassifier\n",
    "# Oversampler.\n",
    "from imblearn.over_sampling import  RandomOverSampler\n",
    "datos_url_pc= \"C://Users/maxib/Source/repos/proyecto_final_coder/datos/Base_predictive_maintenance.csv\""
   ]
  },
  {
   "cell_type": "code",
   "execution_count": 27,
   "metadata": {},
   "outputs": [
    {
     "data": {
      "text/html": [
       "<div>\n",
       "<style scoped>\n",
       "    .dataframe tbody tr th:only-of-type {\n",
       "        vertical-align: middle;\n",
       "    }\n",
       "\n",
       "    .dataframe tbody tr th {\n",
       "        vertical-align: top;\n",
       "    }\n",
       "\n",
       "    .dataframe thead th {\n",
       "        text-align: right;\n",
       "    }\n",
       "</style>\n",
       "<table border=\"1\" class=\"dataframe\">\n",
       "  <thead>\n",
       "    <tr style=\"text-align: right;\">\n",
       "      <th></th>\n",
       "      <th></th>\n",
       "      <th>Type</th>\n",
       "      <th>Air_temperature_[K]</th>\n",
       "      <th>Process_temperature_[K]</th>\n",
       "      <th>Rotational_speed_[rpm]</th>\n",
       "      <th>Torque_[Nm]</th>\n",
       "      <th>Tool_wear_[min]</th>\n",
       "      <th>Target</th>\n",
       "      <th>Failure_Type</th>\n",
       "    </tr>\n",
       "    <tr>\n",
       "      <th>UDI</th>\n",
       "      <th>Product_ID</th>\n",
       "      <th></th>\n",
       "      <th></th>\n",
       "      <th></th>\n",
       "      <th></th>\n",
       "      <th></th>\n",
       "      <th></th>\n",
       "      <th></th>\n",
       "      <th></th>\n",
       "    </tr>\n",
       "  </thead>\n",
       "  <tbody>\n",
       "    <tr>\n",
       "      <th>1</th>\n",
       "      <th>M14860</th>\n",
       "      <td>M</td>\n",
       "      <td>298.1</td>\n",
       "      <td>308.6</td>\n",
       "      <td>1551</td>\n",
       "      <td>42.8</td>\n",
       "      <td>0</td>\n",
       "      <td>0</td>\n",
       "      <td>No Failure</td>\n",
       "    </tr>\n",
       "    <tr>\n",
       "      <th>2</th>\n",
       "      <th>L47181</th>\n",
       "      <td>L</td>\n",
       "      <td>298.2</td>\n",
       "      <td>308.7</td>\n",
       "      <td>1408</td>\n",
       "      <td>46.3</td>\n",
       "      <td>3</td>\n",
       "      <td>0</td>\n",
       "      <td>No Failure</td>\n",
       "    </tr>\n",
       "    <tr>\n",
       "      <th>3</th>\n",
       "      <th>L47182</th>\n",
       "      <td>L</td>\n",
       "      <td>298.1</td>\n",
       "      <td>308.5</td>\n",
       "      <td>1498</td>\n",
       "      <td>49.4</td>\n",
       "      <td>5</td>\n",
       "      <td>0</td>\n",
       "      <td>No Failure</td>\n",
       "    </tr>\n",
       "    <tr>\n",
       "      <th>4</th>\n",
       "      <th>L47183</th>\n",
       "      <td>L</td>\n",
       "      <td>298.2</td>\n",
       "      <td>308.6</td>\n",
       "      <td>1433</td>\n",
       "      <td>39.5</td>\n",
       "      <td>7</td>\n",
       "      <td>0</td>\n",
       "      <td>No Failure</td>\n",
       "    </tr>\n",
       "    <tr>\n",
       "      <th>5</th>\n",
       "      <th>L47184</th>\n",
       "      <td>L</td>\n",
       "      <td>298.2</td>\n",
       "      <td>308.7</td>\n",
       "      <td>1408</td>\n",
       "      <td>40.0</td>\n",
       "      <td>9</td>\n",
       "      <td>0</td>\n",
       "      <td>No Failure</td>\n",
       "    </tr>\n",
       "  </tbody>\n",
       "</table>\n",
       "</div>"
      ],
      "text/plain": [
       "               Type  Air_temperature_[K]  Process_temperature_[K]  \\\n",
       "UDI Product_ID                                                      \n",
       "1   M14860        M                298.1                    308.6   \n",
       "2   L47181        L                298.2                    308.7   \n",
       "3   L47182        L                298.1                    308.5   \n",
       "4   L47183        L                298.2                    308.6   \n",
       "5   L47184        L                298.2                    308.7   \n",
       "\n",
       "                Rotational_speed_[rpm]  Torque_[Nm]  Tool_wear_[min]  Target  \\\n",
       "UDI Product_ID                                                                 \n",
       "1   M14860                        1551         42.8                0       0   \n",
       "2   L47181                        1408         46.3                3       0   \n",
       "3   L47182                        1498         49.4                5       0   \n",
       "4   L47183                        1433         39.5                7       0   \n",
       "5   L47184                        1408         40.0                9       0   \n",
       "\n",
       "               Failure_Type  \n",
       "UDI Product_ID               \n",
       "1   M14860       No Failure  \n",
       "2   L47181       No Failure  \n",
       "3   L47182       No Failure  \n",
       "4   L47183       No Failure  \n",
       "5   L47184       No Failure  "
      ]
     },
     "execution_count": 27,
     "metadata": {},
     "output_type": "execute_result"
    }
   ],
   "source": [
    "# Leer .csv y creo un DF.\n",
    "df = pd.read_csv(datos_url_pc, delimiter=\",\", index_col= [\"UDI\", \"Product_ID\"])\n",
    "df.head()"
   ]
  },
  {
   "cell_type": "markdown",
   "metadata": {},
   "source": [
    "# Definimos Variables "
   ]
  },
  {
   "cell_type": "code",
   "execution_count": 28,
   "metadata": {},
   "outputs": [],
   "source": [
    "# Definimos datos base.\n",
    "data_x= df.drop([\"Failure_Type\", \"Target\"], axis=1)\n",
    "data_y_ft= df[\"Failure_Type\"]\n",
    "data_y_t= df[\"Target\"]\n",
    "# Datos para testear.\n",
    "data_test_x= pd.get_dummies(data_x)\n",
    "data_test_y_ft_dum= pd.get_dummies(data_y_ft)"
   ]
  },
  {
   "cell_type": "markdown",
   "metadata": {},
   "source": [
    "## Resampleo variable Failure type"
   ]
  },
  {
   "cell_type": "code",
   "execution_count": 29,
   "metadata": {},
   "outputs": [
    {
     "name": "stdout",
     "output_type": "stream",
     "text": [
      "<class 'pandas.core.frame.DataFrame'>\n",
      "RangeIndex: 14652 entries, 0 to 14651\n",
      "Data columns (total 6 columns):\n",
      " #   Column                   Non-Null Count  Dtype  \n",
      "---  ------                   --------------  -----  \n",
      " 0   Type                     14652 non-null  object \n",
      " 1   Air_temperature_[K]      14652 non-null  float64\n",
      " 2   Process_temperature_[K]  14652 non-null  float64\n",
      " 3   Rotational_speed_[rpm]   14652 non-null  int64  \n",
      " 4   Torque_[Nm]              14652 non-null  float64\n",
      " 5   Tool_wear_[min]          14652 non-null  int64  \n",
      "dtypes: float64(3), int64(2), object(1)\n",
      "memory usage: 686.9+ KB\n"
     ]
    },
    {
     "data": {
      "text/plain": [
       "array(['M', 'L', 'H'], dtype=object)"
      ]
     },
     "execution_count": 29,
     "metadata": {},
     "output_type": "execute_result"
    }
   ],
   "source": [
    "# Oversampleamos variable Failure Type.\n",
    "# Preparamos variable Target para entrenar los algoritmos.\n",
    "X= data_x\n",
    "y= data_y_ft\n",
    "# Instantiating the random over sampler.\n",
    "ros = RandomOverSampler(sampling_strategy={\"Heat Dissipation Failure\":1000,\"Random Failures\":1000,\"Tool Wear Failure\":1000,\n",
    "                                            \"Overstrain Failure\":1000, \"Power Failure\":1000})\n",
    "# Resampling X, y\n",
    "X_ros_failure, y_ros_failure = ros.fit_resample(X, y)\n",
    "X_ros_failure.info()\n",
    "X_ros_failure[\"Type\"].unique()"
   ]
  },
  {
   "cell_type": "code",
   "execution_count": 30,
   "metadata": {},
   "outputs": [
    {
     "name": "stdout",
     "output_type": "stream",
     "text": [
      "<class 'pandas.core.frame.DataFrame'>\n",
      "RangeIndex: 14652 entries, 0 to 14651\n",
      "Data columns (total 8 columns):\n",
      " #   Column                   Non-Null Count  Dtype  \n",
      "---  ------                   --------------  -----  \n",
      " 0   Air_temperature_[K]      14652 non-null  float64\n",
      " 1   Process_temperature_[K]  14652 non-null  float64\n",
      " 2   Rotational_speed_[rpm]   14652 non-null  int64  \n",
      " 3   Torque_[Nm]              14652 non-null  float64\n",
      " 4   Tool_wear_[min]          14652 non-null  int64  \n",
      " 5   Type_H                   14652 non-null  uint8  \n",
      " 6   Type_L                   14652 non-null  uint8  \n",
      " 7   Type_M                   14652 non-null  uint8  \n",
      "dtypes: float64(3), int64(2), uint8(3)\n",
      "memory usage: 615.4 KB\n"
     ]
    }
   ],
   "source": [
    "# Adquerimos Dummies de Failure Type (Para Train)\n",
    "data_y_dum_train= pd.get_dummies(y_ros_failure)\n",
    "data_X= pd.get_dummies(X_ros_failure)\n",
    "data_X.info()"
   ]
  },
  {
   "cell_type": "markdown",
   "metadata": {},
   "source": [
    "# Randon Forest Hiper Failure Type"
   ]
  },
  {
   "cell_type": "code",
   "execution_count": 48,
   "metadata": {},
   "outputs": [],
   "source": [
    "rf= RandomForestClassifier() # Instanciamos el modelo\n",
    "# UNO VS EL RESTO\n",
    "model_rf= OneVsRestClassifier(rf)\n",
    "\n",
    "# Definimos los parámetros de búsqueda\n",
    "params ={ \n",
    "    'n_estimators': [55],\n",
    "    'max_features': ['sqrt', 'log2'],\n",
    "    'max_depth' : [6,7,8],\n",
    "    'criterion' :['entropy']\n",
    "}\n",
    "# metricas= {'f1_score': make_scorer(f1_score),\n",
    "#            'precision_score': make_scorer(metrics.precision_score) ,\n",
    "#            'recall_score': make_scorer(recall_score) }\n",
    "grid_random_forest = GridSearchCV(estimator = rf,\n",
    "                                  param_grid = params,\n",
    "                                #  scoring = \"f1\",\n",
    "                                #   refit=f1_score,\n",
    "                                  cv = 5, \n",
    "                                  verbose = 1, # Muestra el resultado en pantalla\n",
    "                                  n_jobs = -1) # corrida en paralelo"
   ]
  },
  {
   "cell_type": "code",
   "execution_count": 33,
   "metadata": {},
   "outputs": [
    {
     "data": {
      "text/plain": [
       "dict_keys(['explained_variance', 'r2', 'max_error', 'neg_median_absolute_error', 'neg_mean_absolute_error', 'neg_mean_absolute_percentage_error', 'neg_mean_squared_error', 'neg_mean_squared_log_error', 'neg_root_mean_squared_error', 'neg_mean_poisson_deviance', 'neg_mean_gamma_deviance', 'accuracy', 'top_k_accuracy', 'roc_auc', 'roc_auc_ovr', 'roc_auc_ovo', 'roc_auc_ovr_weighted', 'roc_auc_ovo_weighted', 'balanced_accuracy', 'average_precision', 'neg_log_loss', 'neg_brier_score', 'adjusted_rand_score', 'rand_score', 'homogeneity_score', 'completeness_score', 'v_measure_score', 'mutual_info_score', 'adjusted_mutual_info_score', 'normalized_mutual_info_score', 'fowlkes_mallows_score', 'precision', 'precision_macro', 'precision_micro', 'precision_samples', 'precision_weighted', 'recall', 'recall_macro', 'recall_micro', 'recall_samples', 'recall_weighted', 'f1', 'f1_macro', 'f1_micro', 'f1_samples', 'f1_weighted', 'jaccard', 'jaccard_macro', 'jaccard_micro', 'jaccard_samples', 'jaccard_weighted'])"
      ]
     },
     "execution_count": 33,
     "metadata": {},
     "output_type": "execute_result"
    }
   ],
   "source": [
    "metrics.SCORERS.keys()"
   ]
  },
  {
   "cell_type": "code",
   "execution_count": 53,
   "metadata": {},
   "outputs": [
    {
     "name": "stdout",
     "output_type": "stream",
     "text": [
      "Fitting 5 folds for each of 6 candidates, totalling 30 fits\n"
     ]
    },
    {
     "data": {
      "text/plain": [
       "GridSearchCV(cv=5, estimator=RandomForestClassifier(), n_jobs=-1,\n",
       "             param_grid={'criterion': ['entropy'], 'max_depth': [6, 7, 8],\n",
       "                         'max_features': ['sqrt', 'log2'],\n",
       "                         'n_estimators': [55]},\n",
       "             verbose=1)"
      ]
     },
     "execution_count": 53,
     "metadata": {},
     "output_type": "execute_result"
    }
   ],
   "source": [
    "grid_random_forest.fit(data_X, data_y_dum_train)"
   ]
  },
  {
   "cell_type": "code",
   "execution_count": 54,
   "metadata": {},
   "outputs": [
    {
     "name": "stdout",
     "output_type": "stream",
     "text": [
      "Mejores parametros: {'criterion': 'entropy', 'max_depth': 8, 'max_features': 'log2', 'n_estimators': 55}\n",
      "Mejor Score: 0.6433906586413565\n",
      "\n"
     ]
    },
    {
     "data": {
      "text/html": [
       "<div>\n",
       "<style scoped>\n",
       "    .dataframe tbody tr th:only-of-type {\n",
       "        vertical-align: middle;\n",
       "    }\n",
       "\n",
       "    .dataframe tbody tr th {\n",
       "        vertical-align: top;\n",
       "    }\n",
       "\n",
       "    .dataframe thead th {\n",
       "        text-align: right;\n",
       "    }\n",
       "</style>\n",
       "<table border=\"1\" class=\"dataframe\">\n",
       "  <thead>\n",
       "    <tr style=\"text-align: right;\">\n",
       "      <th></th>\n",
       "      <th>mean_fit_time</th>\n",
       "      <th>std_fit_time</th>\n",
       "      <th>mean_score_time</th>\n",
       "      <th>std_score_time</th>\n",
       "      <th>param_criterion</th>\n",
       "      <th>param_max_depth</th>\n",
       "      <th>param_max_features</th>\n",
       "      <th>param_n_estimators</th>\n",
       "      <th>params</th>\n",
       "      <th>split0_test_score</th>\n",
       "      <th>split1_test_score</th>\n",
       "      <th>split2_test_score</th>\n",
       "      <th>split3_test_score</th>\n",
       "      <th>split4_test_score</th>\n",
       "      <th>mean_test_score</th>\n",
       "      <th>std_test_score</th>\n",
       "      <th>rank_test_score</th>\n",
       "    </tr>\n",
       "  </thead>\n",
       "  <tbody>\n",
       "    <tr>\n",
       "      <th>0</th>\n",
       "      <td>1.448033</td>\n",
       "      <td>0.354284</td>\n",
       "      <td>0.144788</td>\n",
       "      <td>0.041027</td>\n",
       "      <td>entropy</td>\n",
       "      <td>6</td>\n",
       "      <td>sqrt</td>\n",
       "      <td>55</td>\n",
       "      <td>{'criterion': 'entropy', 'max_depth': 6, 'max_...</td>\n",
       "      <td>0.909928</td>\n",
       "      <td>0.311839</td>\n",
       "      <td>0.869966</td>\n",
       "      <td>0.404437</td>\n",
       "      <td>0.112287</td>\n",
       "      <td>0.521691</td>\n",
       "      <td>0.315411</td>\n",
       "      <td>6</td>\n",
       "    </tr>\n",
       "    <tr>\n",
       "      <th>1</th>\n",
       "      <td>2.226008</td>\n",
       "      <td>0.574026</td>\n",
       "      <td>0.140525</td>\n",
       "      <td>0.031025</td>\n",
       "      <td>entropy</td>\n",
       "      <td>6</td>\n",
       "      <td>log2</td>\n",
       "      <td>55</td>\n",
       "      <td>{'criterion': 'entropy', 'max_depth': 6, 'max_...</td>\n",
       "      <td>0.902764</td>\n",
       "      <td>0.301262</td>\n",
       "      <td>0.897952</td>\n",
       "      <td>0.506826</td>\n",
       "      <td>0.125597</td>\n",
       "      <td>0.546880</td>\n",
       "      <td>0.312831</td>\n",
       "      <td>5</td>\n",
       "    </tr>\n",
       "    <tr>\n",
       "      <th>2</th>\n",
       "      <td>1.708331</td>\n",
       "      <td>0.316253</td>\n",
       "      <td>0.134487</td>\n",
       "      <td>0.037163</td>\n",
       "      <td>entropy</td>\n",
       "      <td>7</td>\n",
       "      <td>sqrt</td>\n",
       "      <td>55</td>\n",
       "      <td>{'criterion': 'entropy', 'max_depth': 7, 'max_...</td>\n",
       "      <td>0.926305</td>\n",
       "      <td>0.324804</td>\n",
       "      <td>0.871331</td>\n",
       "      <td>0.464505</td>\n",
       "      <td>0.149829</td>\n",
       "      <td>0.547355</td>\n",
       "      <td>0.304297</td>\n",
       "      <td>4</td>\n",
       "    </tr>\n",
       "    <tr>\n",
       "      <th>3</th>\n",
       "      <td>2.015467</td>\n",
       "      <td>0.292028</td>\n",
       "      <td>0.142776</td>\n",
       "      <td>0.037437</td>\n",
       "      <td>entropy</td>\n",
       "      <td>7</td>\n",
       "      <td>log2</td>\n",
       "      <td>55</td>\n",
       "      <td>{'criterion': 'entropy', 'max_depth': 7, 'max_...</td>\n",
       "      <td>0.908905</td>\n",
       "      <td>0.363357</td>\n",
       "      <td>0.928669</td>\n",
       "      <td>0.607167</td>\n",
       "      <td>0.233447</td>\n",
       "      <td>0.608309</td>\n",
       "      <td>0.280540</td>\n",
       "      <td>2</td>\n",
       "    </tr>\n",
       "    <tr>\n",
       "      <th>4</th>\n",
       "      <td>1.795158</td>\n",
       "      <td>0.337726</td>\n",
       "      <td>0.112513</td>\n",
       "      <td>0.008443</td>\n",
       "      <td>entropy</td>\n",
       "      <td>8</td>\n",
       "      <td>sqrt</td>\n",
       "      <td>55</td>\n",
       "      <td>{'criterion': 'entropy', 'max_depth': 8, 'max_...</td>\n",
       "      <td>0.935176</td>\n",
       "      <td>0.381440</td>\n",
       "      <td>0.868259</td>\n",
       "      <td>0.608191</td>\n",
       "      <td>0.232082</td>\n",
       "      <td>0.605030</td>\n",
       "      <td>0.271064</td>\n",
       "      <td>3</td>\n",
       "    </tr>\n",
       "    <tr>\n",
       "      <th>5</th>\n",
       "      <td>1.958076</td>\n",
       "      <td>0.308262</td>\n",
       "      <td>0.099031</td>\n",
       "      <td>0.018186</td>\n",
       "      <td>entropy</td>\n",
       "      <td>8</td>\n",
       "      <td>log2</td>\n",
       "      <td>55</td>\n",
       "      <td>{'criterion': 'entropy', 'max_depth': 8, 'max_...</td>\n",
       "      <td>0.926987</td>\n",
       "      <td>0.399864</td>\n",
       "      <td>0.891809</td>\n",
       "      <td>0.663481</td>\n",
       "      <td>0.334812</td>\n",
       "      <td>0.643391</td>\n",
       "      <td>0.243749</td>\n",
       "      <td>1</td>\n",
       "    </tr>\n",
       "  </tbody>\n",
       "</table>\n",
       "</div>"
      ],
      "text/plain": [
       "   mean_fit_time  std_fit_time  mean_score_time  std_score_time  \\\n",
       "0       1.448033      0.354284         0.144788        0.041027   \n",
       "1       2.226008      0.574026         0.140525        0.031025   \n",
       "2       1.708331      0.316253         0.134487        0.037163   \n",
       "3       2.015467      0.292028         0.142776        0.037437   \n",
       "4       1.795158      0.337726         0.112513        0.008443   \n",
       "5       1.958076      0.308262         0.099031        0.018186   \n",
       "\n",
       "  param_criterion param_max_depth param_max_features param_n_estimators  \\\n",
       "0         entropy               6               sqrt                 55   \n",
       "1         entropy               6               log2                 55   \n",
       "2         entropy               7               sqrt                 55   \n",
       "3         entropy               7               log2                 55   \n",
       "4         entropy               8               sqrt                 55   \n",
       "5         entropy               8               log2                 55   \n",
       "\n",
       "                                              params  split0_test_score  \\\n",
       "0  {'criterion': 'entropy', 'max_depth': 6, 'max_...           0.909928   \n",
       "1  {'criterion': 'entropy', 'max_depth': 6, 'max_...           0.902764   \n",
       "2  {'criterion': 'entropy', 'max_depth': 7, 'max_...           0.926305   \n",
       "3  {'criterion': 'entropy', 'max_depth': 7, 'max_...           0.908905   \n",
       "4  {'criterion': 'entropy', 'max_depth': 8, 'max_...           0.935176   \n",
       "5  {'criterion': 'entropy', 'max_depth': 8, 'max_...           0.926987   \n",
       "\n",
       "   split1_test_score  split2_test_score  split3_test_score  split4_test_score  \\\n",
       "0           0.311839           0.869966           0.404437           0.112287   \n",
       "1           0.301262           0.897952           0.506826           0.125597   \n",
       "2           0.324804           0.871331           0.464505           0.149829   \n",
       "3           0.363357           0.928669           0.607167           0.233447   \n",
       "4           0.381440           0.868259           0.608191           0.232082   \n",
       "5           0.399864           0.891809           0.663481           0.334812   \n",
       "\n",
       "   mean_test_score  std_test_score  rank_test_score  \n",
       "0         0.521691        0.315411                6  \n",
       "1         0.546880        0.312831                5  \n",
       "2         0.547355        0.304297                4  \n",
       "3         0.608309        0.280540                2  \n",
       "4         0.605030        0.271064                3  \n",
       "5         0.643391        0.243749                1  "
      ]
     },
     "execution_count": 54,
     "metadata": {},
     "output_type": "execute_result"
    }
   ],
   "source": [
    "#Obtenemos el mejor modelo!\n",
    "grid_random_forest.best_estimator_\n",
    "print(\"Mejores parametros: \"+str(grid_random_forest.best_params_))\n",
    "print(\"Mejor Score: \"+str(grid_random_forest.best_score_)+'\\n')\n",
    "scores = pd.DataFrame(grid_random_forest.cv_results_)\n",
    "scores"
   ]
  },
  {
   "cell_type": "code",
   "execution_count": 55,
   "metadata": {},
   "outputs": [
    {
     "name": "stdout",
     "output_type": "stream",
     "text": [
      "Exactitud: 0.9668\n"
     ]
    }
   ],
   "source": [
    "#Predicción de casos nuevos\n",
    "# Prediccion en Train\n",
    "y_train_pred= grid_random_forest.predict(data_X)\n",
    "# Prediccion en Test\n",
    "y_test_pred= grid_random_forest.predict(data_test_x)\n",
    "# \n",
    "y_score= grid_random_forest.best_estimator_.predict_proba(data_test_x)\n",
    "#Accuracy\n",
    "print('Exactitud:', accuracy_score(data_test_y_ft_dum, y_test_pred))"
   ]
  },
  {
   "cell_type": "code",
   "execution_count": 56,
   "metadata": {},
   "outputs": [
    {
     "name": "stdout",
     "output_type": "stream",
     "text": [
      "F1 Score TEST del classificador macro: 0.7525137279350389\n",
      "F1 Score TEST del classificador micro: 0.9705365657782461\n",
      "F1 Score TEST del classificador weighted: 0.9758326359514438\n",
      "F1 Score TEST del classificador: [0.72258065 0.98257436 0.92857143 1.         0.5        0.38135593]\n",
      "Jaccard Score TEST del classificador macro: 0.661167381258212\n",
      "Jaccard Score TEST del classificador micro: 0.9427596294490492\n",
      "Jaccard Score TEST del classificador weighted: 0.9563932427690203\n"
     ]
    }
   ],
   "source": [
    "# Analisis score F1\n",
    "print(f\"F1 Score TEST del classificador macro: {f1_score(data_test_y_ft_dum, y_test_pred, average='macro')}\")\n",
    "\n",
    "print(f\"F1 Score TEST del classificador micro: {f1_score(data_test_y_ft_dum, y_test_pred, average='micro')}\")\n",
    "\n",
    "print(f\"F1 Score TEST del classificador weighted: {f1_score(data_test_y_ft_dum, y_test_pred, average='weighted')}\")\n",
    "\n",
    "print(f\"F1 Score TEST del classificador: {f1_score(data_test_y_ft_dum, y_test_pred, average=None)}\")\n",
    "# Analisis jaccard\n",
    "print(f\"Jaccard Score TEST del classificador macro: {metrics.jaccard_score(data_test_y_ft_dum, y_test_pred, average='macro')}\")\n",
    "\n",
    "print(f\"Jaccard Score TEST del classificador micro: {metrics.jaccard_score(data_test_y_ft_dum, y_test_pred, average='micro')}\")\n",
    "\n",
    "print(f\"Jaccard Score TEST del classificador weighted: {metrics.jaccard_score(data_test_y_ft_dum, y_test_pred, average='weighted')}\")\n"
   ]
  },
  {
   "cell_type": "code",
   "execution_count": 57,
   "metadata": {},
   "outputs": [
    {
     "name": "stderr",
     "output_type": "stream",
     "text": [
      "C:\\Users\\maxib\\anaconda3\\lib\\site-packages\\sklearn\\metrics\\_classification.py:1318: UndefinedMetricWarning: Precision and F-score are ill-defined and being set to 0.0 in samples with no predicted labels. Use `zero_division` parameter to control this behavior.\n",
      "  _warn_prf(average, modifier, msg_start, len(result))\n"
     ]
    },
    {
     "data": {
      "text/plain": [
       "'              precision    recall  f1-score   support\\n\\n           0       0.57      1.00      0.72       112\\n           1       1.00      0.97      0.98      9652\\n           2       0.87      1.00      0.93        78\\n           3       1.00      1.00      1.00        95\\n           4       1.00      0.33      0.50        18\\n           5       0.24      1.00      0.38        45\\n\\n   micro avg       0.97      0.97      0.97     10000\\n   macro avg       0.78      0.88      0.75     10000\\nweighted avg       0.99      0.97      0.98     10000\\n samples avg       0.97      0.97      0.97     10000\\n'"
      ]
     },
     "execution_count": 57,
     "metadata": {},
     "output_type": "execute_result"
    }
   ],
   "source": [
    "metrics.classification_report(data_test_y_ft_dum, y_test_pred)"
   ]
  },
  {
   "cell_type": "code",
   "execution_count": null,
   "metadata": {},
   "outputs": [],
   "source": []
  }
 ],
 "metadata": {
  "interpreter": {
   "hash": "4239e2f2a432b2dcdb50391d5c1aeca278335e4eb6b91fd6d35d27ccedf820a0"
  },
  "kernelspec": {
   "display_name": "Python 3.9.10 64-bit (windows store)",
   "language": "python",
   "name": "python3"
  },
  "language_info": {
   "codemirror_mode": {
    "name": "ipython",
    "version": 3
   },
   "file_extension": ".py",
   "mimetype": "text/x-python",
   "name": "python",
   "nbconvert_exporter": "python",
   "pygments_lexer": "ipython3",
   "version": "3.8.5"
  },
  "orig_nbformat": 4
 },
 "nbformat": 4,
 "nbformat_minor": 2
}
