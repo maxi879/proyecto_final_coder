{
 "cells": [
  {
   "cell_type": "code",
   "execution_count": 26,
   "metadata": {},
   "outputs": [],
   "source": [
    "# Importamos librerías.\n",
    "import pandas as pd\n",
    "import seaborn as sns\n",
    "import matplotlib.pyplot as plt\n",
    "import numpy as np\n",
    "import itertools\n",
    "# sklearn.\n",
    "from sklearn import metrics\n",
    "from sklearn.metrics import make_scorer\n",
    "from sklearn.metrics import accuracy_score\n",
    "from sklearn.metrics import confusion_matrix\n",
    "from sklearn.metrics import plot_confusion_matrix\n",
    "from sklearn.metrics import recall_score\n",
    "from sklearn.metrics import f1_score\n",
    "from sklearn.metrics import precision_recall_curve\n",
    "from sklearn.metrics import average_precision_score\n",
    "from sklearn.metrics import PrecisionRecallDisplay\n",
    "from sklearn.preprocessing import label_binarize\n",
    "# Hypertuning utilizando grid search.\n",
    "from sklearn.model_selection import GridSearchCV\n",
    "from sklearn.multiclass import OneVsRestClassifier\n",
    "from sklearn.ensemble import RandomForestClassifier\n",
    "from sklearn.neighbors import KNeighborsClassifier\n",
    "# Oversampler.\n",
    "from imblearn.over_sampling import  RandomOverSampler\n",
    "datos_url_pc= \"C://Users/maxib/Source/repos/proyecto_final_coder/datos/Base_predictive_maintenance.csv\""
   ]
  },
  {
   "cell_type": "code",
   "execution_count": 27,
   "metadata": {},
   "outputs": [
    {
     "data": {
      "text/html": [
       "<div>\n",
       "<style scoped>\n",
       "    .dataframe tbody tr th:only-of-type {\n",
       "        vertical-align: middle;\n",
       "    }\n",
       "\n",
       "    .dataframe tbody tr th {\n",
       "        vertical-align: top;\n",
       "    }\n",
       "\n",
       "    .dataframe thead th {\n",
       "        text-align: right;\n",
       "    }\n",
       "</style>\n",
       "<table border=\"1\" class=\"dataframe\">\n",
       "  <thead>\n",
       "    <tr style=\"text-align: right;\">\n",
       "      <th></th>\n",
       "      <th></th>\n",
       "      <th>Type</th>\n",
       "      <th>Air_temperature_[K]</th>\n",
       "      <th>Process_temperature_[K]</th>\n",
       "      <th>Rotational_speed_[rpm]</th>\n",
       "      <th>Torque_[Nm]</th>\n",
       "      <th>Tool_wear_[min]</th>\n",
       "      <th>Target</th>\n",
       "      <th>Failure_Type</th>\n",
       "    </tr>\n",
       "    <tr>\n",
       "      <th>UDI</th>\n",
       "      <th>Product_ID</th>\n",
       "      <th></th>\n",
       "      <th></th>\n",
       "      <th></th>\n",
       "      <th></th>\n",
       "      <th></th>\n",
       "      <th></th>\n",
       "      <th></th>\n",
       "      <th></th>\n",
       "    </tr>\n",
       "  </thead>\n",
       "  <tbody>\n",
       "    <tr>\n",
       "      <th>1</th>\n",
       "      <th>M14860</th>\n",
       "      <td>M</td>\n",
       "      <td>298.1</td>\n",
       "      <td>308.6</td>\n",
       "      <td>1551</td>\n",
       "      <td>42.8</td>\n",
       "      <td>0</td>\n",
       "      <td>0</td>\n",
       "      <td>No Failure</td>\n",
       "    </tr>\n",
       "    <tr>\n",
       "      <th>2</th>\n",
       "      <th>L47181</th>\n",
       "      <td>L</td>\n",
       "      <td>298.2</td>\n",
       "      <td>308.7</td>\n",
       "      <td>1408</td>\n",
       "      <td>46.3</td>\n",
       "      <td>3</td>\n",
       "      <td>0</td>\n",
       "      <td>No Failure</td>\n",
       "    </tr>\n",
       "    <tr>\n",
       "      <th>3</th>\n",
       "      <th>L47182</th>\n",
       "      <td>L</td>\n",
       "      <td>298.1</td>\n",
       "      <td>308.5</td>\n",
       "      <td>1498</td>\n",
       "      <td>49.4</td>\n",
       "      <td>5</td>\n",
       "      <td>0</td>\n",
       "      <td>No Failure</td>\n",
       "    </tr>\n",
       "    <tr>\n",
       "      <th>4</th>\n",
       "      <th>L47183</th>\n",
       "      <td>L</td>\n",
       "      <td>298.2</td>\n",
       "      <td>308.6</td>\n",
       "      <td>1433</td>\n",
       "      <td>39.5</td>\n",
       "      <td>7</td>\n",
       "      <td>0</td>\n",
       "      <td>No Failure</td>\n",
       "    </tr>\n",
       "    <tr>\n",
       "      <th>5</th>\n",
       "      <th>L47184</th>\n",
       "      <td>L</td>\n",
       "      <td>298.2</td>\n",
       "      <td>308.7</td>\n",
       "      <td>1408</td>\n",
       "      <td>40.0</td>\n",
       "      <td>9</td>\n",
       "      <td>0</td>\n",
       "      <td>No Failure</td>\n",
       "    </tr>\n",
       "  </tbody>\n",
       "</table>\n",
       "</div>"
      ],
      "text/plain": [
       "               Type  Air_temperature_[K]  Process_temperature_[K]  \\\n",
       "UDI Product_ID                                                      \n",
       "1   M14860        M                298.1                    308.6   \n",
       "2   L47181        L                298.2                    308.7   \n",
       "3   L47182        L                298.1                    308.5   \n",
       "4   L47183        L                298.2                    308.6   \n",
       "5   L47184        L                298.2                    308.7   \n",
       "\n",
       "                Rotational_speed_[rpm]  Torque_[Nm]  Tool_wear_[min]  Target  \\\n",
       "UDI Product_ID                                                                 \n",
       "1   M14860                        1551         42.8                0       0   \n",
       "2   L47181                        1408         46.3                3       0   \n",
       "3   L47182                        1498         49.4                5       0   \n",
       "4   L47183                        1433         39.5                7       0   \n",
       "5   L47184                        1408         40.0                9       0   \n",
       "\n",
       "               Failure_Type  \n",
       "UDI Product_ID               \n",
       "1   M14860       No Failure  \n",
       "2   L47181       No Failure  \n",
       "3   L47182       No Failure  \n",
       "4   L47183       No Failure  \n",
       "5   L47184       No Failure  "
      ]
     },
     "execution_count": 27,
     "metadata": {},
     "output_type": "execute_result"
    }
   ],
   "source": [
    "# Leer .csv y creo un DF.\n",
    "df = pd.read_csv(datos_url_pc, delimiter=\",\", index_col= [\"UDI\", \"Product_ID\"])\n",
    "df.head()"
   ]
  },
  {
   "cell_type": "markdown",
   "metadata": {},
   "source": [
    "# Definimos Variables "
   ]
  },
  {
   "cell_type": "code",
   "execution_count": 28,
   "metadata": {},
   "outputs": [],
   "source": [
    "# Definimos datos base.\n",
    "data_x= df.drop([\"Failure_Type\", \"Target\"], axis=1)\n",
    "data_y_ft= df[\"Failure_Type\"]\n",
    "data_y_t= df[\"Target\"]\n",
    "# Datos para testear.\n",
    "data_test_x= pd.get_dummies(data_x)\n",
    "data_test_y_ft_dum= pd.get_dummies(data_y_ft)"
   ]
  },
  {
   "cell_type": "markdown",
   "metadata": {},
   "source": [
    "## Resampleo variable Failure type"
   ]
  },
  {
   "cell_type": "code",
   "execution_count": 29,
   "metadata": {},
   "outputs": [
    {
     "name": "stdout",
     "output_type": "stream",
     "text": [
      "<class 'pandas.core.frame.DataFrame'>\n",
      "RangeIndex: 14652 entries, 0 to 14651\n",
      "Data columns (total 6 columns):\n",
      " #   Column                   Non-Null Count  Dtype  \n",
      "---  ------                   --------------  -----  \n",
      " 0   Type                     14652 non-null  object \n",
      " 1   Air_temperature_[K]      14652 non-null  float64\n",
      " 2   Process_temperature_[K]  14652 non-null  float64\n",
      " 3   Rotational_speed_[rpm]   14652 non-null  int64  \n",
      " 4   Torque_[Nm]              14652 non-null  float64\n",
      " 5   Tool_wear_[min]          14652 non-null  int64  \n",
      "dtypes: float64(3), int64(2), object(1)\n",
      "memory usage: 686.9+ KB\n"
     ]
    },
    {
     "data": {
      "text/plain": [
       "array(['M', 'L', 'H'], dtype=object)"
      ]
     },
     "execution_count": 29,
     "metadata": {},
     "output_type": "execute_result"
    }
   ],
   "source": [
    "# Oversampleamos variable Failure Type.\n",
    "# Preparamos variable Target para entrenar los algoritmos.\n",
    "X= data_x\n",
    "y= data_y_ft\n",
    "# Instantiating the random over sampler.\n",
    "ros = RandomOverSampler(sampling_strategy={\"Heat Dissipation Failure\":1000,\"Random Failures\":1000,\"Tool Wear Failure\":1000,\n",
    "                                            \"Overstrain Failure\":1000, \"Power Failure\":1000})\n",
    "# Resampling X, y\n",
    "X_ros_failure, y_ros_failure = ros.fit_resample(X, y)\n",
    "X_ros_failure.info()\n",
    "X_ros_failure[\"Type\"].unique()"
   ]
  },
  {
   "cell_type": "code",
   "execution_count": 30,
   "metadata": {},
   "outputs": [
    {
     "name": "stdout",
     "output_type": "stream",
     "text": [
      "<class 'pandas.core.frame.DataFrame'>\n",
      "RangeIndex: 14652 entries, 0 to 14651\n",
      "Data columns (total 8 columns):\n",
      " #   Column                   Non-Null Count  Dtype  \n",
      "---  ------                   --------------  -----  \n",
      " 0   Air_temperature_[K]      14652 non-null  float64\n",
      " 1   Process_temperature_[K]  14652 non-null  float64\n",
      " 2   Rotational_speed_[rpm]   14652 non-null  int64  \n",
      " 3   Torque_[Nm]              14652 non-null  float64\n",
      " 4   Tool_wear_[min]          14652 non-null  int64  \n",
      " 5   Type_H                   14652 non-null  uint8  \n",
      " 6   Type_L                   14652 non-null  uint8  \n",
      " 7   Type_M                   14652 non-null  uint8  \n",
      "dtypes: float64(3), int64(2), uint8(3)\n",
      "memory usage: 615.4 KB\n"
     ]
    }
   ],
   "source": [
    "# Adquerimos Dummies de Failure Type (Para Train)\n",
    "data_y_dum_train= pd.get_dummies(y_ros_failure)\n",
    "data_X= pd.get_dummies(X_ros_failure)\n",
    "data_X.info()"
   ]
  },
  {
   "cell_type": "markdown",
   "metadata": {},
   "source": [
    "# Randon Forest Hiper Failure Type"
   ]
  },
  {
   "cell_type": "code",
   "execution_count": 48,
   "metadata": {},
   "outputs": [],
   "source": [
    "rf= RandomForestClassifier() # Instanciamos el modelo\n",
    "# UNO VS EL RESTO\n",
    "model_rf= OneVsRestClassifier(rf)\n",
    "\n",
    "# Definimos los parámetros de búsqueda\n",
    "params ={ \n",
    "    'n_estimators': [55],\n",
    "    'max_features': ['sqrt', 'log2'],\n",
    "    'max_depth' : [6,7,8],\n",
    "    'criterion' :['entropy']\n",
    "}\n",
    "# metricas= {'f1_score': make_scorer(f1_score),\n",
    "#            'precision_score': make_scorer(metrics.precision_score) ,\n",
    "#            'recall_score': make_scorer(recall_score) }\n",
    "grid_random_forest = GridSearchCV(estimator = rf,\n",
    "                                  param_grid = params,\n",
    "                                #  scoring = \"f1\",\n",
    "                                #   refit=f1_score,\n",
    "                                  cv = 5, \n",
    "                                  verbose = 1, # Muestra el resultado en pantalla\n",
    "                                  n_jobs = -1) # corrida en paralelo"
   ]
  },
  {
   "cell_type": "code",
   "execution_count": 33,
   "metadata": {},
   "outputs": [
    {
     "data": {
      "text/plain": [
       "dict_keys(['explained_variance', 'r2', 'max_error', 'neg_median_absolute_error', 'neg_mean_absolute_error', 'neg_mean_absolute_percentage_error', 'neg_mean_squared_error', 'neg_mean_squared_log_error', 'neg_root_mean_squared_error', 'neg_mean_poisson_deviance', 'neg_mean_gamma_deviance', 'accuracy', 'top_k_accuracy', 'roc_auc', 'roc_auc_ovr', 'roc_auc_ovo', 'roc_auc_ovr_weighted', 'roc_auc_ovo_weighted', 'balanced_accuracy', 'average_precision', 'neg_log_loss', 'neg_brier_score', 'adjusted_rand_score', 'rand_score', 'homogeneity_score', 'completeness_score', 'v_measure_score', 'mutual_info_score', 'adjusted_mutual_info_score', 'normalized_mutual_info_score', 'fowlkes_mallows_score', 'precision', 'precision_macro', 'precision_micro', 'precision_samples', 'precision_weighted', 'recall', 'recall_macro', 'recall_micro', 'recall_samples', 'recall_weighted', 'f1', 'f1_macro', 'f1_micro', 'f1_samples', 'f1_weighted', 'jaccard', 'jaccard_macro', 'jaccard_micro', 'jaccard_samples', 'jaccard_weighted'])"
      ]
     },
     "execution_count": 33,
     "metadata": {},
     "output_type": "execute_result"
    }
   ],
   "source": [
    "metrics.SCORERS.keys()"
   ]
  },
  {
   "cell_type": "code",
   "execution_count": 49,
   "metadata": {},
   "outputs": [
    {
     "name": "stdout",
     "output_type": "stream",
     "text": [
      "Fitting 5 folds for each of 6 candidates, totalling 30 fits\n"
     ]
    },
    {
     "data": {
      "text/plain": [
       "GridSearchCV(cv=5, estimator=RandomForestClassifier(), n_jobs=-1,\n",
       "             param_grid={'criterion': ['entropy'], 'max_depth': [6, 7, 8],\n",
       "                         'max_features': ['sqrt', 'log2'],\n",
       "                         'n_estimators': [55]},\n",
       "             verbose=1)"
      ]
     },
     "execution_count": 49,
     "metadata": {},
     "output_type": "execute_result"
    }
   ],
   "source": [
    "grid_random_forest.fit(data_X, data_y_dum_train)"
   ]
  },
  {
   "cell_type": "code",
   "execution_count": 50,
   "metadata": {},
   "outputs": [
    {
     "name": "stdout",
     "output_type": "stream",
     "text": [
      "Mejores parametros: {'criterion': 'entropy', 'max_depth': 8, 'max_features': 'log2', 'n_estimators': 55}\n",
      "Mejor Score: 0.6425015399699342\n",
      "\n"
     ]
    },
    {
     "data": {
      "text/html": [
       "<div>\n",
       "<style scoped>\n",
       "    .dataframe tbody tr th:only-of-type {\n",
       "        vertical-align: middle;\n",
       "    }\n",
       "\n",
       "    .dataframe tbody tr th {\n",
       "        vertical-align: top;\n",
       "    }\n",
       "\n",
       "    .dataframe thead th {\n",
       "        text-align: right;\n",
       "    }\n",
       "</style>\n",
       "<table border=\"1\" class=\"dataframe\">\n",
       "  <thead>\n",
       "    <tr style=\"text-align: right;\">\n",
       "      <th></th>\n",
       "      <th>mean_fit_time</th>\n",
       "      <th>std_fit_time</th>\n",
       "      <th>mean_score_time</th>\n",
       "      <th>std_score_time</th>\n",
       "      <th>param_criterion</th>\n",
       "      <th>param_max_depth</th>\n",
       "      <th>param_max_features</th>\n",
       "      <th>param_n_estimators</th>\n",
       "      <th>params</th>\n",
       "      <th>split0_test_score</th>\n",
       "      <th>split1_test_score</th>\n",
       "      <th>split2_test_score</th>\n",
       "      <th>split3_test_score</th>\n",
       "      <th>split4_test_score</th>\n",
       "      <th>mean_test_score</th>\n",
       "      <th>std_test_score</th>\n",
       "      <th>rank_test_score</th>\n",
       "    </tr>\n",
       "  </thead>\n",
       "  <tbody>\n",
       "    <tr>\n",
       "      <th>0</th>\n",
       "      <td>1.629412</td>\n",
       "      <td>0.342139</td>\n",
       "      <td>0.145282</td>\n",
       "      <td>0.034057</td>\n",
       "      <td>entropy</td>\n",
       "      <td>6</td>\n",
       "      <td>sqrt</td>\n",
       "      <td>55</td>\n",
       "      <td>{'criterion': 'entropy', 'max_depth': 6, 'max_...</td>\n",
       "      <td>0.911975</td>\n",
       "      <td>0.296827</td>\n",
       "      <td>0.862457</td>\n",
       "      <td>0.445392</td>\n",
       "      <td>0.114334</td>\n",
       "      <td>0.526197</td>\n",
       "      <td>0.313262</td>\n",
       "      <td>6</td>\n",
       "    </tr>\n",
       "    <tr>\n",
       "      <th>1</th>\n",
       "      <td>1.838662</td>\n",
       "      <td>0.312880</td>\n",
       "      <td>0.140685</td>\n",
       "      <td>0.037719</td>\n",
       "      <td>entropy</td>\n",
       "      <td>6</td>\n",
       "      <td>log2</td>\n",
       "      <td>55</td>\n",
       "      <td>{'criterion': 'entropy', 'max_depth': 6, 'max_...</td>\n",
       "      <td>0.913340</td>\n",
       "      <td>0.304333</td>\n",
       "      <td>0.912287</td>\n",
       "      <td>0.539932</td>\n",
       "      <td>0.134812</td>\n",
       "      <td>0.560941</td>\n",
       "      <td>0.314803</td>\n",
       "      <td>5</td>\n",
       "    </tr>\n",
       "    <tr>\n",
       "      <th>2</th>\n",
       "      <td>1.556472</td>\n",
       "      <td>0.280067</td>\n",
       "      <td>0.150014</td>\n",
       "      <td>0.035506</td>\n",
       "      <td>entropy</td>\n",
       "      <td>7</td>\n",
       "      <td>sqrt</td>\n",
       "      <td>55</td>\n",
       "      <td>{'criterion': 'entropy', 'max_depth': 7, 'max_...</td>\n",
       "      <td>0.919823</td>\n",
       "      <td>0.413170</td>\n",
       "      <td>0.894198</td>\n",
       "      <td>0.520137</td>\n",
       "      <td>0.132765</td>\n",
       "      <td>0.576018</td>\n",
       "      <td>0.298515</td>\n",
       "      <td>4</td>\n",
       "    </tr>\n",
       "    <tr>\n",
       "      <th>3</th>\n",
       "      <td>1.860820</td>\n",
       "      <td>0.233214</td>\n",
       "      <td>0.140278</td>\n",
       "      <td>0.028431</td>\n",
       "      <td>entropy</td>\n",
       "      <td>7</td>\n",
       "      <td>log2</td>\n",
       "      <td>55</td>\n",
       "      <td>{'criterion': 'entropy', 'max_depth': 7, 'max_...</td>\n",
       "      <td>0.926987</td>\n",
       "      <td>0.348004</td>\n",
       "      <td>0.928328</td>\n",
       "      <td>0.593515</td>\n",
       "      <td>0.236860</td>\n",
       "      <td>0.606739</td>\n",
       "      <td>0.286324</td>\n",
       "      <td>2</td>\n",
       "    </tr>\n",
       "    <tr>\n",
       "      <th>4</th>\n",
       "      <td>1.634191</td>\n",
       "      <td>0.129874</td>\n",
       "      <td>0.111569</td>\n",
       "      <td>0.011844</td>\n",
       "      <td>entropy</td>\n",
       "      <td>8</td>\n",
       "      <td>sqrt</td>\n",
       "      <td>55</td>\n",
       "      <td>{'criterion': 'entropy', 'max_depth': 8, 'max_...</td>\n",
       "      <td>0.934493</td>\n",
       "      <td>0.346639</td>\n",
       "      <td>0.879522</td>\n",
       "      <td>0.616724</td>\n",
       "      <td>0.222867</td>\n",
       "      <td>0.600049</td>\n",
       "      <td>0.281680</td>\n",
       "      <td>3</td>\n",
       "    </tr>\n",
       "    <tr>\n",
       "      <th>5</th>\n",
       "      <td>1.602764</td>\n",
       "      <td>0.054997</td>\n",
       "      <td>0.090358</td>\n",
       "      <td>0.011880</td>\n",
       "      <td>entropy</td>\n",
       "      <td>8</td>\n",
       "      <td>log2</td>\n",
       "      <td>55</td>\n",
       "      <td>{'criterion': 'entropy', 'max_depth': 8, 'max_...</td>\n",
       "      <td>0.934152</td>\n",
       "      <td>0.418287</td>\n",
       "      <td>0.912628</td>\n",
       "      <td>0.641638</td>\n",
       "      <td>0.305802</td>\n",
       "      <td>0.642502</td>\n",
       "      <td>0.253641</td>\n",
       "      <td>1</td>\n",
       "    </tr>\n",
       "  </tbody>\n",
       "</table>\n",
       "</div>"
      ],
      "text/plain": [
       "   mean_fit_time  std_fit_time  mean_score_time  std_score_time  \\\n",
       "0       1.629412      0.342139         0.145282        0.034057   \n",
       "1       1.838662      0.312880         0.140685        0.037719   \n",
       "2       1.556472      0.280067         0.150014        0.035506   \n",
       "3       1.860820      0.233214         0.140278        0.028431   \n",
       "4       1.634191      0.129874         0.111569        0.011844   \n",
       "5       1.602764      0.054997         0.090358        0.011880   \n",
       "\n",
       "  param_criterion param_max_depth param_max_features param_n_estimators  \\\n",
       "0         entropy               6               sqrt                 55   \n",
       "1         entropy               6               log2                 55   \n",
       "2         entropy               7               sqrt                 55   \n",
       "3         entropy               7               log2                 55   \n",
       "4         entropy               8               sqrt                 55   \n",
       "5         entropy               8               log2                 55   \n",
       "\n",
       "                                              params  split0_test_score  \\\n",
       "0  {'criterion': 'entropy', 'max_depth': 6, 'max_...           0.911975   \n",
       "1  {'criterion': 'entropy', 'max_depth': 6, 'max_...           0.913340   \n",
       "2  {'criterion': 'entropy', 'max_depth': 7, 'max_...           0.919823   \n",
       "3  {'criterion': 'entropy', 'max_depth': 7, 'max_...           0.926987   \n",
       "4  {'criterion': 'entropy', 'max_depth': 8, 'max_...           0.934493   \n",
       "5  {'criterion': 'entropy', 'max_depth': 8, 'max_...           0.934152   \n",
       "\n",
       "   split1_test_score  split2_test_score  split3_test_score  split4_test_score  \\\n",
       "0           0.296827           0.862457           0.445392           0.114334   \n",
       "1           0.304333           0.912287           0.539932           0.134812   \n",
       "2           0.413170           0.894198           0.520137           0.132765   \n",
       "3           0.348004           0.928328           0.593515           0.236860   \n",
       "4           0.346639           0.879522           0.616724           0.222867   \n",
       "5           0.418287           0.912628           0.641638           0.305802   \n",
       "\n",
       "   mean_test_score  std_test_score  rank_test_score  \n",
       "0         0.526197        0.313262                6  \n",
       "1         0.560941        0.314803                5  \n",
       "2         0.576018        0.298515                4  \n",
       "3         0.606739        0.286324                2  \n",
       "4         0.600049        0.281680                3  \n",
       "5         0.642502        0.253641                1  "
      ]
     },
     "execution_count": 50,
     "metadata": {},
     "output_type": "execute_result"
    }
   ],
   "source": [
    "#Obtenemos el mejor modelo!\n",
    "grid_random_forest.best_estimator_\n",
    "print(\"Mejores parametros: \"+str(grid_random_forest.best_params_))\n",
    "print(\"Mejor Score: \"+str(grid_random_forest.best_score_)+'\\n')\n",
    "scores = pd.DataFrame(grid_random_forest.cv_results_)\n",
    "scores"
   ]
  },
  {
   "cell_type": "code",
   "execution_count": 51,
   "metadata": {},
   "outputs": [
    {
     "name": "stdout",
     "output_type": "stream",
     "text": [
      "Exactitud: 0.9709\n"
     ]
    }
   ],
   "source": [
    "#Predicción de casos nuevos\n",
    "# Prediccion en Train\n",
    "y_train_pred= grid_random_forest.predict(data_X)\n",
    "# Prediccion en Test\n",
    "y_test_pred= grid_random_forest.predict(data_test_x)\n",
    "# \n",
    "y_score= grid_random_forest.best_estimator_.predict_proba(data_test_x)\n",
    "#Accuracy\n",
    "print('Exactitud:', accuracy_score(data_test_y_ft_dum, y_test_pred))"
   ]
  },
  {
   "cell_type": "code",
   "execution_count": 52,
   "metadata": {},
   "outputs": [
    {
     "name": "stdout",
     "output_type": "stream",
     "text": [
      "F1 Score TEST del classificador macro: 0.7719447306307415\n",
      "F1 Score TEST del classificador micro: 0.9753867791842475\n",
      "F1 Score TEST del classificador weighted: 0.9783350071890238\n",
      "F1 Score TEST del classificador: [0.72025723 0.98471398 0.91764706 0.9947644  0.5        0.51428571]\n",
      "Jaccard Score TEST del classificador macro: 0.6749331525269843\n",
      "Jaccard Score TEST del classificador micro: 0.9519560741249142\n",
      "Jaccard Score TEST del classificador weighted: 0.9606114291465198\n"
     ]
    }
   ],
   "source": [
    "# Analisis score F1\n",
    "print(f\"F1 Score TEST del classificador macro: {f1_score(data_test_y_ft_dum, y_test_pred, average='macro')}\")\n",
    "\n",
    "print(f\"F1 Score TEST del classificador micro: {f1_score(data_test_y_ft_dum, y_test_pred, average='micro')}\")\n",
    "\n",
    "print(f\"F1 Score TEST del classificador weighted: {f1_score(data_test_y_ft_dum, y_test_pred, average='weighted')}\")\n",
    "\n",
    "print(f\"F1 Score TEST del classificador: {f1_score(data_test_y_ft_dum, y_test_pred, average=None)}\")\n",
    "# Analisis jaccard\n",
    "print(f\"Jaccard Score TEST del classificador macro: {metrics.jaccard_score(data_test_y_ft_dum, y_test_pred, average='macro')}\")\n",
    "\n",
    "print(f\"Jaccard Score TEST del classificador micro: {metrics.jaccard_score(data_test_y_ft_dum, y_test_pred, average='micro')}\")\n",
    "\n",
    "print(f\"Jaccard Score TEST del classificador weighted: {metrics.jaccard_score(data_test_y_ft_dum, y_test_pred, average='weighted')}\")\n"
   ]
  },
  {
   "cell_type": "code",
   "execution_count": 43,
   "metadata": {},
   "outputs": [
    {
     "name": "stderr",
     "output_type": "stream",
     "text": [
      "C:\\Users\\maxib\\anaconda3\\lib\\site-packages\\sklearn\\metrics\\_classification.py:1318: UndefinedMetricWarning: Precision and F-score are ill-defined and being set to 0.0 in samples with no predicted labels. Use `zero_division` parameter to control this behavior.\n",
      "  _warn_prf(average, modifier, msg_start, len(result))\n"
     ]
    },
    {
     "data": {
      "text/plain": [
       "'              precision    recall  f1-score   support\\n\\n           0       0.56      0.96      0.71       112\\n           1       1.00      0.95      0.97      9652\\n           2       0.67      0.95      0.79        78\\n           3       0.92      0.83      0.87        95\\n           4       1.00      0.22      0.36        18\\n           5       0.50      0.67      0.57        45\\n\\n   micro avg       0.98      0.94      0.96     10000\\n   macro avg       0.78      0.76      0.71     10000\\nweighted avg       0.99      0.94      0.96     10000\\n samples avg       0.94      0.94      0.94     10000\\n'"
      ]
     },
     "execution_count": 43,
     "metadata": {},
     "output_type": "execute_result"
    }
   ],
   "source": [
    "metrics.classification_report(data_test_y_ft_dum, y_test_pred)"
   ]
  },
  {
   "cell_type": "code",
   "execution_count": null,
   "metadata": {},
   "outputs": [],
   "source": []
  }
 ],
 "metadata": {
  "interpreter": {
   "hash": "4239e2f2a432b2dcdb50391d5c1aeca278335e4eb6b91fd6d35d27ccedf820a0"
  },
  "kernelspec": {
   "display_name": "Python 3.9.10 64-bit (windows store)",
   "language": "python",
   "name": "python3"
  },
  "language_info": {
   "codemirror_mode": {
    "name": "ipython",
    "version": 3
   },
   "file_extension": ".py",
   "mimetype": "text/x-python",
   "name": "python",
   "nbconvert_exporter": "python",
   "pygments_lexer": "ipython3",
   "version": "3.8.5"
  },
  "orig_nbformat": 4
 },
 "nbformat": 4,
 "nbformat_minor": 2
}
